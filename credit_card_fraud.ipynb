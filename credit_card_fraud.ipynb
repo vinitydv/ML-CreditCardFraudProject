{
 "cells": [
  {
   "cell_type": "code",
   "execution_count": 2,
   "id": "ce605f30",
   "metadata": {},
   "outputs": [],
   "source": [
    "import pandas as pd\n",
    "data=pd.read_csv(\"https://raw.githubusercontent.com/vinitydv/ML-CreditCardFraudProject/main/creditCardFraud_28011964_120214.csv\")"
   ]
  },
  {
   "cell_type": "code",
   "execution_count": 6,
   "id": "2acd8a86",
   "metadata": {},
   "outputs": [
    {
     "data": {
      "text/html": [
       "<div>\n",
       "<style scoped>\n",
       "    .dataframe tbody tr th:only-of-type {\n",
       "        vertical-align: middle;\n",
       "    }\n",
       "\n",
       "    .dataframe tbody tr th {\n",
       "        vertical-align: top;\n",
       "    }\n",
       "\n",
       "    .dataframe thead th {\n",
       "        text-align: right;\n",
       "    }\n",
       "</style>\n",
       "<table border=\"1\" class=\"dataframe\">\n",
       "  <thead>\n",
       "    <tr style=\"text-align: right;\">\n",
       "      <th></th>\n",
       "      <th>LIMIT_BAL</th>\n",
       "      <th>SEX</th>\n",
       "      <th>EDUCATION</th>\n",
       "      <th>MARRIAGE</th>\n",
       "      <th>AGE</th>\n",
       "      <th>PAY_0</th>\n",
       "      <th>PAY_2</th>\n",
       "      <th>PAY_3</th>\n",
       "      <th>PAY_4</th>\n",
       "      <th>PAY_5</th>\n",
       "      <th>...</th>\n",
       "      <th>BILL_AMT4</th>\n",
       "      <th>BILL_AMT5</th>\n",
       "      <th>BILL_AMT6</th>\n",
       "      <th>PAY_AMT1</th>\n",
       "      <th>PAY_AMT2</th>\n",
       "      <th>PAY_AMT3</th>\n",
       "      <th>PAY_AMT4</th>\n",
       "      <th>PAY_AMT5</th>\n",
       "      <th>PAY_AMT6</th>\n",
       "      <th>default payment next month</th>\n",
       "    </tr>\n",
       "  </thead>\n",
       "  <tbody>\n",
       "    <tr>\n",
       "      <th>0</th>\n",
       "      <td>50000</td>\n",
       "      <td>1</td>\n",
       "      <td>2</td>\n",
       "      <td>1</td>\n",
       "      <td>57</td>\n",
       "      <td>-1</td>\n",
       "      <td>0</td>\n",
       "      <td>-1</td>\n",
       "      <td>0</td>\n",
       "      <td>0</td>\n",
       "      <td>...</td>\n",
       "      <td>20940</td>\n",
       "      <td>19146</td>\n",
       "      <td>19131</td>\n",
       "      <td>2000</td>\n",
       "      <td>36681</td>\n",
       "      <td>10000</td>\n",
       "      <td>9000</td>\n",
       "      <td>689</td>\n",
       "      <td>679</td>\n",
       "      <td>0</td>\n",
       "    </tr>\n",
       "    <tr>\n",
       "      <th>1</th>\n",
       "      <td>50000</td>\n",
       "      <td>1</td>\n",
       "      <td>1</td>\n",
       "      <td>2</td>\n",
       "      <td>37</td>\n",
       "      <td>0</td>\n",
       "      <td>0</td>\n",
       "      <td>0</td>\n",
       "      <td>0</td>\n",
       "      <td>0</td>\n",
       "      <td>...</td>\n",
       "      <td>19394</td>\n",
       "      <td>19619</td>\n",
       "      <td>20024</td>\n",
       "      <td>2500</td>\n",
       "      <td>1815</td>\n",
       "      <td>657</td>\n",
       "      <td>1000</td>\n",
       "      <td>1000</td>\n",
       "      <td>800</td>\n",
       "      <td>0</td>\n",
       "    </tr>\n",
       "    <tr>\n",
       "      <th>2</th>\n",
       "      <td>500000</td>\n",
       "      <td>1</td>\n",
       "      <td>1</td>\n",
       "      <td>2</td>\n",
       "      <td>29</td>\n",
       "      <td>0</td>\n",
       "      <td>0</td>\n",
       "      <td>0</td>\n",
       "      <td>0</td>\n",
       "      <td>0</td>\n",
       "      <td>...</td>\n",
       "      <td>542653</td>\n",
       "      <td>483003</td>\n",
       "      <td>473944</td>\n",
       "      <td>55000</td>\n",
       "      <td>40000</td>\n",
       "      <td>38000</td>\n",
       "      <td>20239</td>\n",
       "      <td>13750</td>\n",
       "      <td>13770</td>\n",
       "      <td>0</td>\n",
       "    </tr>\n",
       "    <tr>\n",
       "      <th>3</th>\n",
       "      <td>100000</td>\n",
       "      <td>2</td>\n",
       "      <td>2</td>\n",
       "      <td>2</td>\n",
       "      <td>23</td>\n",
       "      <td>0</td>\n",
       "      <td>-1</td>\n",
       "      <td>-1</td>\n",
       "      <td>0</td>\n",
       "      <td>0</td>\n",
       "      <td>...</td>\n",
       "      <td>221</td>\n",
       "      <td>-159</td>\n",
       "      <td>567</td>\n",
       "      <td>380</td>\n",
       "      <td>601</td>\n",
       "      <td>0</td>\n",
       "      <td>581</td>\n",
       "      <td>1687</td>\n",
       "      <td>1542</td>\n",
       "      <td>0</td>\n",
       "    </tr>\n",
       "    <tr>\n",
       "      <th>4</th>\n",
       "      <td>140000</td>\n",
       "      <td>2</td>\n",
       "      <td>3</td>\n",
       "      <td>1</td>\n",
       "      <td>28</td>\n",
       "      <td>0</td>\n",
       "      <td>0</td>\n",
       "      <td>2</td>\n",
       "      <td>0</td>\n",
       "      <td>0</td>\n",
       "      <td>...</td>\n",
       "      <td>12211</td>\n",
       "      <td>11793</td>\n",
       "      <td>3719</td>\n",
       "      <td>3329</td>\n",
       "      <td>0</td>\n",
       "      <td>432</td>\n",
       "      <td>1000</td>\n",
       "      <td>1000</td>\n",
       "      <td>1000</td>\n",
       "      <td>0</td>\n",
       "    </tr>\n",
       "  </tbody>\n",
       "</table>\n",
       "<p>5 rows × 24 columns</p>\n",
       "</div>"
      ],
      "text/plain": [
       "   LIMIT_BAL  SEX  EDUCATION  MARRIAGE  AGE  PAY_0  PAY_2  PAY_3  PAY_4  \\\n",
       "0      50000    1          2         1   57     -1      0     -1      0   \n",
       "1      50000    1          1         2   37      0      0      0      0   \n",
       "2     500000    1          1         2   29      0      0      0      0   \n",
       "3     100000    2          2         2   23      0     -1     -1      0   \n",
       "4     140000    2          3         1   28      0      0      2      0   \n",
       "\n",
       "   PAY_5  ...  BILL_AMT4  BILL_AMT5  BILL_AMT6  PAY_AMT1  PAY_AMT2  PAY_AMT3  \\\n",
       "0      0  ...      20940      19146      19131      2000     36681     10000   \n",
       "1      0  ...      19394      19619      20024      2500      1815       657   \n",
       "2      0  ...     542653     483003     473944     55000     40000     38000   \n",
       "3      0  ...        221       -159        567       380       601         0   \n",
       "4      0  ...      12211      11793       3719      3329         0       432   \n",
       "\n",
       "   PAY_AMT4  PAY_AMT5  PAY_AMT6  default payment next month  \n",
       "0      9000       689       679                           0  \n",
       "1      1000      1000       800                           0  \n",
       "2     20239     13750     13770                           0  \n",
       "3       581      1687      1542                           0  \n",
       "4      1000      1000      1000                           0  \n",
       "\n",
       "[5 rows x 24 columns]"
      ]
     },
     "execution_count": 6,
     "metadata": {},
     "output_type": "execute_result"
    }
   ],
   "source": [
    "data.head()"
   ]
  },
  {
   "cell_type": "code",
   "execution_count": 7,
   "id": "fecedc3d",
   "metadata": {},
   "outputs": [
    {
     "data": {
      "text/plain": [
       "Index(['LIMIT_BAL', 'SEX', 'EDUCATION', 'MARRIAGE', 'AGE', 'PAY_0', 'PAY_2',\n",
       "       'PAY_3', 'PAY_4', 'PAY_5', 'PAY_6', 'BILL_AMT1', 'BILL_AMT2',\n",
       "       'BILL_AMT3', 'BILL_AMT4', 'BILL_AMT5', 'BILL_AMT6', 'PAY_AMT1',\n",
       "       'PAY_AMT2', 'PAY_AMT3', 'PAY_AMT4', 'PAY_AMT5', 'PAY_AMT6',\n",
       "       'default payment next month'],\n",
       "      dtype='object')"
      ]
     },
     "execution_count": 7,
     "metadata": {},
     "output_type": "execute_result"
    }
   ],
   "source": [
    "data.columns"
   ]
  },
  {
   "cell_type": "code",
   "execution_count": 8,
   "id": "5ac2c5a3",
   "metadata": {},
   "outputs": [
    {
     "name": "stdout",
     "output_type": "stream",
     "text": [
      "<class 'pandas.core.frame.DataFrame'>\n",
      "RangeIndex: 1001 entries, 0 to 1000\n",
      "Data columns (total 24 columns):\n",
      " #   Column                      Non-Null Count  Dtype\n",
      "---  ------                      --------------  -----\n",
      " 0   LIMIT_BAL                   1001 non-null   int64\n",
      " 1   SEX                         1001 non-null   int64\n",
      " 2   EDUCATION                   1001 non-null   int64\n",
      " 3   MARRIAGE                    1001 non-null   int64\n",
      " 4   AGE                         1001 non-null   int64\n",
      " 5   PAY_0                       1001 non-null   int64\n",
      " 6   PAY_2                       1001 non-null   int64\n",
      " 7   PAY_3                       1001 non-null   int64\n",
      " 8   PAY_4                       1001 non-null   int64\n",
      " 9   PAY_5                       1001 non-null   int64\n",
      " 10  PAY_6                       1001 non-null   int64\n",
      " 11  BILL_AMT1                   1001 non-null   int64\n",
      " 12  BILL_AMT2                   1001 non-null   int64\n",
      " 13  BILL_AMT3                   1001 non-null   int64\n",
      " 14  BILL_AMT4                   1001 non-null   int64\n",
      " 15  BILL_AMT5                   1001 non-null   int64\n",
      " 16  BILL_AMT6                   1001 non-null   int64\n",
      " 17  PAY_AMT1                    1001 non-null   int64\n",
      " 18  PAY_AMT2                    1001 non-null   int64\n",
      " 19  PAY_AMT3                    1001 non-null   int64\n",
      " 20  PAY_AMT4                    1001 non-null   int64\n",
      " 21  PAY_AMT5                    1001 non-null   int64\n",
      " 22  PAY_AMT6                    1001 non-null   int64\n",
      " 23  default payment next month  1001 non-null   int64\n",
      "dtypes: int64(24)\n",
      "memory usage: 187.8 KB\n"
     ]
    }
   ],
   "source": [
    "data.info()"
   ]
  },
  {
   "cell_type": "code",
   "execution_count": 9,
   "id": "51cb7456",
   "metadata": {},
   "outputs": [
    {
     "data": {
      "text/plain": [
       "LIMIT_BAL                     0\n",
       "SEX                           0\n",
       "EDUCATION                     0\n",
       "MARRIAGE                      0\n",
       "AGE                           0\n",
       "PAY_0                         0\n",
       "PAY_2                         0\n",
       "PAY_3                         0\n",
       "PAY_4                         0\n",
       "PAY_5                         0\n",
       "PAY_6                         0\n",
       "BILL_AMT1                     0\n",
       "BILL_AMT2                     0\n",
       "BILL_AMT3                     0\n",
       "BILL_AMT4                     0\n",
       "BILL_AMT5                     0\n",
       "BILL_AMT6                     0\n",
       "PAY_AMT1                      0\n",
       "PAY_AMT2                      0\n",
       "PAY_AMT3                      0\n",
       "PAY_AMT4                      0\n",
       "PAY_AMT5                      0\n",
       "PAY_AMT6                      0\n",
       "default payment next month    0\n",
       "dtype: int64"
      ]
     },
     "execution_count": 9,
     "metadata": {},
     "output_type": "execute_result"
    }
   ],
   "source": [
    "data.isnull().sum()"
   ]
  },
  {
   "cell_type": "code",
   "execution_count": 10,
   "id": "f88a4f7e",
   "metadata": {},
   "outputs": [
    {
     "name": "stderr",
     "output_type": "stream",
     "text": [
      "C:\\Users\\ankit\\AppData\\Local\\Temp\\ipykernel_12488\\2274191625.py:1: DeprecationWarning: `import pandas_profiling` is going to be deprecated by April 1st. Please use `import ydata_profiling` instead.\n",
      "  from pandas_profiling import ProfileReport\n"
     ]
    }
   ],
   "source": [
    "from pandas_profiling import ProfileReport"
   ]
  },
  {
   "cell_type": "code",
   "execution_count": 11,
   "id": "01a33cfd",
   "metadata": {},
   "outputs": [],
   "source": [
    "profile=ProfileReport(data,title='Pandas Profiling Report')"
   ]
  },
  {
   "cell_type": "code",
   "execution_count": null,
   "id": "b7fe539e",
   "metadata": {
    "scrolled": true
   },
   "outputs": [],
   "source": [
    "profile.to_widgets()"
   ]
  },
  {
   "cell_type": "code",
   "execution_count": 12,
   "id": "06f7249c",
   "metadata": {},
   "outputs": [],
   "source": [
    "X=data.drop(labels=['default payment next month'],axis=1)"
   ]
  },
  {
   "cell_type": "code",
   "execution_count": 13,
   "id": "46c6cdf2",
   "metadata": {},
   "outputs": [],
   "source": [
    "y=data['default payment next month']"
   ]
  },
  {
   "cell_type": "code",
   "execution_count": 14,
   "id": "f03f30e8",
   "metadata": {},
   "outputs": [
    {
     "data": {
      "text/plain": [
       "0       0\n",
       "1       0\n",
       "2       0\n",
       "3       0\n",
       "4       0\n",
       "       ..\n",
       "996     0\n",
       "997     0\n",
       "998     0\n",
       "999     1\n",
       "1000    1\n",
       "Name: default payment next month, Length: 1001, dtype: int64"
      ]
     },
     "execution_count": 14,
     "metadata": {},
     "output_type": "execute_result"
    }
   ],
   "source": [
    "y"
   ]
  },
  {
   "cell_type": "code",
   "execution_count": 15,
   "id": "7ad7610d",
   "metadata": {},
   "outputs": [],
   "source": [
    "from sklearn.model_selection import train_test_split"
   ]
  },
  {
   "cell_type": "code",
   "execution_count": 16,
   "id": "d70d8bc4",
   "metadata": {},
   "outputs": [],
   "source": [
    "## We did train and test split before only why because we dont want data leakage\n",
    "X_train,X_test,y_train,y_test=train_test_split(X,y,test_size=0.25,random_state=50)"
   ]
  },
  {
   "cell_type": "code",
   "execution_count": 17,
   "id": "ae5650c3",
   "metadata": {},
   "outputs": [],
   "source": [
    "## Preprocessing Step"
   ]
  },
  {
   "cell_type": "code",
   "execution_count": 18,
   "id": "2fa4b150",
   "metadata": {},
   "outputs": [],
   "source": [
    "from sklearn.preprocessing import StandardScaler"
   ]
  },
  {
   "cell_type": "code",
   "execution_count": 19,
   "id": "1a8b3bc4",
   "metadata": {},
   "outputs": [],
   "source": [
    "train_scaler=StandardScaler()\n",
    "test_scaler=StandardScaler()"
   ]
  },
  {
   "cell_type": "code",
   "execution_count": 20,
   "id": "d07de6e9",
   "metadata": {},
   "outputs": [],
   "source": [
    "scaler_train_data=train_scaler.fit_transform(X_train)"
   ]
  },
  {
   "cell_type": "code",
   "execution_count": 25,
   "id": "748d7d3e",
   "metadata": {},
   "outputs": [],
   "source": [
    "scaler_test_data=test_scaler.transform(X_test)"
   ]
  },
  {
   "cell_type": "code",
   "execution_count": 26,
   "id": "fa8975a5",
   "metadata": {},
   "outputs": [
    {
     "data": {
      "text/html": [
       "<style>#sk-container-id-1 {color: black;background-color: white;}#sk-container-id-1 pre{padding: 0;}#sk-container-id-1 div.sk-toggleable {background-color: white;}#sk-container-id-1 label.sk-toggleable__label {cursor: pointer;display: block;width: 100%;margin-bottom: 0;padding: 0.3em;box-sizing: border-box;text-align: center;}#sk-container-id-1 label.sk-toggleable__label-arrow:before {content: \"▸\";float: left;margin-right: 0.25em;color: #696969;}#sk-container-id-1 label.sk-toggleable__label-arrow:hover:before {color: black;}#sk-container-id-1 div.sk-estimator:hover label.sk-toggleable__label-arrow:before {color: black;}#sk-container-id-1 div.sk-toggleable__content {max-height: 0;max-width: 0;overflow: hidden;text-align: left;background-color: #f0f8ff;}#sk-container-id-1 div.sk-toggleable__content pre {margin: 0.2em;color: black;border-radius: 0.25em;background-color: #f0f8ff;}#sk-container-id-1 input.sk-toggleable__control:checked~div.sk-toggleable__content {max-height: 200px;max-width: 100%;overflow: auto;}#sk-container-id-1 input.sk-toggleable__control:checked~label.sk-toggleable__label-arrow:before {content: \"▾\";}#sk-container-id-1 div.sk-estimator input.sk-toggleable__control:checked~label.sk-toggleable__label {background-color: #d4ebff;}#sk-container-id-1 div.sk-label input.sk-toggleable__control:checked~label.sk-toggleable__label {background-color: #d4ebff;}#sk-container-id-1 input.sk-hidden--visually {border: 0;clip: rect(1px 1px 1px 1px);clip: rect(1px, 1px, 1px, 1px);height: 1px;margin: -1px;overflow: hidden;padding: 0;position: absolute;width: 1px;}#sk-container-id-1 div.sk-estimator {font-family: monospace;background-color: #f0f8ff;border: 1px dotted black;border-radius: 0.25em;box-sizing: border-box;margin-bottom: 0.5em;}#sk-container-id-1 div.sk-estimator:hover {background-color: #d4ebff;}#sk-container-id-1 div.sk-parallel-item::after {content: \"\";width: 100%;border-bottom: 1px solid gray;flex-grow: 1;}#sk-container-id-1 div.sk-label:hover label.sk-toggleable__label {background-color: #d4ebff;}#sk-container-id-1 div.sk-serial::before {content: \"\";position: absolute;border-left: 1px solid gray;box-sizing: border-box;top: 0;bottom: 0;left: 50%;z-index: 0;}#sk-container-id-1 div.sk-serial {display: flex;flex-direction: column;align-items: center;background-color: white;padding-right: 0.2em;padding-left: 0.2em;position: relative;}#sk-container-id-1 div.sk-item {position: relative;z-index: 1;}#sk-container-id-1 div.sk-parallel {display: flex;align-items: stretch;justify-content: center;background-color: white;position: relative;}#sk-container-id-1 div.sk-item::before, #sk-container-id-1 div.sk-parallel-item::before {content: \"\";position: absolute;border-left: 1px solid gray;box-sizing: border-box;top: 0;bottom: 0;left: 50%;z-index: -1;}#sk-container-id-1 div.sk-parallel-item {display: flex;flex-direction: column;z-index: 1;position: relative;background-color: white;}#sk-container-id-1 div.sk-parallel-item:first-child::after {align-self: flex-end;width: 50%;}#sk-container-id-1 div.sk-parallel-item:last-child::after {align-self: flex-start;width: 50%;}#sk-container-id-1 div.sk-parallel-item:only-child::after {width: 0;}#sk-container-id-1 div.sk-dashed-wrapped {border: 1px dashed gray;margin: 0 0.4em 0.5em 0.4em;box-sizing: border-box;padding-bottom: 0.4em;background-color: white;}#sk-container-id-1 div.sk-label label {font-family: monospace;font-weight: bold;display: inline-block;line-height: 1.2em;}#sk-container-id-1 div.sk-label-container {text-align: center;}#sk-container-id-1 div.sk-container {/* jupyter's `normalize.less` sets `[hidden] { display: none; }` but bootstrap.min.css set `[hidden] { display: none !important; }` so we also need the `!important` here to be able to override the default hidden behavior on the sphinx rendered scikit-learn.org. See: https://github.com/scikit-learn/scikit-learn/issues/21755 */display: inline-block !important;position: relative;}#sk-container-id-1 div.sk-text-repr-fallback {display: none;}</style><div id=\"sk-container-id-1\" class=\"sk-top-container\"><div class=\"sk-text-repr-fallback\"><pre>GaussianNB()</pre><b>In a Jupyter environment, please rerun this cell to show the HTML representation or trust the notebook. <br />On GitHub, the HTML representation is unable to render, please try loading this page with nbviewer.org.</b></div><div class=\"sk-container\" hidden><div class=\"sk-item\"><div class=\"sk-estimator sk-toggleable\"><input class=\"sk-toggleable__control sk-hidden--visually\" id=\"sk-estimator-id-1\" type=\"checkbox\" checked><label for=\"sk-estimator-id-1\" class=\"sk-toggleable__label sk-toggleable__label-arrow\">GaussianNB</label><div class=\"sk-toggleable__content\"><pre>GaussianNB()</pre></div></div></div></div></div>"
      ],
      "text/plain": [
       "GaussianNB()"
      ]
     },
     "execution_count": 26,
     "metadata": {},
     "output_type": "execute_result"
    }
   ],
   "source": [
    "from sklearn.naive_bayes import GaussianNB\n",
    "clf=GaussianNB()\n",
    "clf.fit(scaler_train_data,y_train)"
   ]
  },
  {
   "cell_type": "code",
   "execution_count": 27,
   "id": "2a86a0ca",
   "metadata": {},
   "outputs": [],
   "source": [
    "y_pred=clf.predict(scaler_test_data)"
   ]
  },
  {
   "cell_type": "code",
   "execution_count": 28,
   "id": "62352357",
   "metadata": {},
   "outputs": [],
   "source": [
    "from sklearn.metrics import accuracy_score"
   ]
  },
  {
   "cell_type": "code",
   "execution_count": 29,
   "id": "e2c89d83",
   "metadata": {},
   "outputs": [
    {
     "data": {
      "text/plain": [
       "0.7051792828685259"
      ]
     },
     "execution_count": 29,
     "metadata": {},
     "output_type": "execute_result"
    }
   ],
   "source": [
    "accuracy_score(y_test,y_pred)"
   ]
  },
  {
   "cell_type": "code",
   "execution_count": 30,
   "id": "818bdded",
   "metadata": {},
   "outputs": [],
   "source": [
    "param_grid={'var_smoothing':[1e-9,0.1,0.001,0.5,0.05,0.01,1e-7,1e-8,1e-6,1e-10,1e-11]}"
   ]
  },
  {
   "cell_type": "code",
   "execution_count": 31,
   "id": "44b56a9f",
   "metadata": {},
   "outputs": [],
   "source": [
    "from sklearn.model_selection import GridSearchCV\n",
    "gs=GridSearchCV(clf,param_grid=param_grid,cv=5,verbose=3)"
   ]
  },
  {
   "cell_type": "code",
   "execution_count": 32,
   "id": "d07a3ca8",
   "metadata": {},
   "outputs": [
    {
     "name": "stdout",
     "output_type": "stream",
     "text": [
      "Fitting 5 folds for each of 11 candidates, totalling 55 fits\n",
      "[CV 1/5] END ...............var_smoothing=1e-09;, score=0.713 total time=   0.0s\n",
      "[CV 2/5] END ...............var_smoothing=1e-09;, score=0.707 total time=   0.0s\n",
      "[CV 3/5] END ...............var_smoothing=1e-09;, score=0.580 total time=   0.0s\n",
      "[CV 4/5] END ...............var_smoothing=1e-09;, score=0.780 total time=   0.0s\n",
      "[CV 5/5] END ...............var_smoothing=1e-09;, score=0.487 total time=   0.0s\n",
      "[CV 1/5] END .................var_smoothing=0.1;, score=0.693 total time=   0.0s\n",
      "[CV 2/5] END .................var_smoothing=0.1;, score=0.773 total time=   0.0s\n",
      "[CV 3/5] END .................var_smoothing=0.1;, score=0.700 total time=   0.0s\n",
      "[CV 4/5] END .................var_smoothing=0.1;, score=0.780 total time=   0.0s\n",
      "[CV 5/5] END .................var_smoothing=0.1;, score=0.633 total time=   0.0s\n",
      "[CV 1/5] END ...............var_smoothing=0.001;, score=0.713 total time=   0.0s\n",
      "[CV 2/5] END ...............var_smoothing=0.001;, score=0.707 total time=   0.0s\n",
      "[CV 3/5] END ...............var_smoothing=0.001;, score=0.593 total time=   0.0s\n",
      "[CV 4/5] END ...............var_smoothing=0.001;, score=0.780 total time=   0.0s\n",
      "[CV 5/5] END ...............var_smoothing=0.001;, score=0.487 total time=   0.0s\n",
      "[CV 1/5] END .................var_smoothing=0.5;, score=0.740 total time=   0.0s\n",
      "[CV 2/5] END .................var_smoothing=0.5;, score=0.807 total time=   0.0s\n",
      "[CV 3/5] END .................var_smoothing=0.5;, score=0.767 total time=   0.0s\n",
      "[CV 4/5] END .................var_smoothing=0.5;, score=0.793 total time=   0.0s\n",
      "[CV 5/5] END .................var_smoothing=0.5;, score=0.773 total time=   0.0s\n",
      "[CV 1/5] END ................var_smoothing=0.05;, score=0.700 total time=   0.0s\n",
      "[CV 2/5] END ................var_smoothing=0.05;, score=0.747 total time=   0.0s\n",
      "[CV 3/5] END ................var_smoothing=0.05;, score=0.647 total time=   0.0s\n",
      "[CV 4/5] END ................var_smoothing=0.05;, score=0.787 total time=   0.0s\n",
      "[CV 5/5] END ................var_smoothing=0.05;, score=0.540 total time=   0.0s\n",
      "[CV 1/5] END ................var_smoothing=0.01;, score=0.720 total time=   0.0s\n",
      "[CV 2/5] END ................var_smoothing=0.01;, score=0.713 total time=   0.0s\n",
      "[CV 3/5] END ................var_smoothing=0.01;, score=0.607 total time=   0.0s\n",
      "[CV 4/5] END ................var_smoothing=0.01;, score=0.780 total time=   0.0s\n",
      "[CV 5/5] END ................var_smoothing=0.01;, score=0.500 total time=   0.0s\n",
      "[CV 1/5] END ...............var_smoothing=1e-07;, score=0.713 total time=   0.0s\n",
      "[CV 2/5] END ...............var_smoothing=1e-07;, score=0.707 total time=   0.0s\n",
      "[CV 3/5] END ...............var_smoothing=1e-07;, score=0.580 total time=   0.0s\n",
      "[CV 4/5] END ...............var_smoothing=1e-07;, score=0.780 total time=   0.0s\n",
      "[CV 5/5] END ...............var_smoothing=1e-07;, score=0.487 total time=   0.0s\n",
      "[CV 1/5] END ...............var_smoothing=1e-08;, score=0.713 total time=   0.0s\n",
      "[CV 2/5] END ...............var_smoothing=1e-08;, score=0.707 total time=   0.0s\n",
      "[CV 3/5] END ...............var_smoothing=1e-08;, score=0.580 total time=   0.0s\n",
      "[CV 4/5] END ...............var_smoothing=1e-08;, score=0.780 total time=   0.0s\n",
      "[CV 5/5] END ...............var_smoothing=1e-08;, score=0.487 total time=   0.0s\n",
      "[CV 1/5] END ...............var_smoothing=1e-06;, score=0.713 total time=   0.0s\n",
      "[CV 2/5] END ...............var_smoothing=1e-06;, score=0.707 total time=   0.0s\n",
      "[CV 3/5] END ...............var_smoothing=1e-06;, score=0.580 total time=   0.0s\n",
      "[CV 4/5] END ...............var_smoothing=1e-06;, score=0.780 total time=   0.0s\n",
      "[CV 5/5] END ...............var_smoothing=1e-06;, score=0.487 total time=   0.0s\n",
      "[CV 1/5] END ...............var_smoothing=1e-10;, score=0.713 total time=   0.0s\n",
      "[CV 2/5] END ...............var_smoothing=1e-10;, score=0.707 total time=   0.0s\n",
      "[CV 3/5] END ...............var_smoothing=1e-10;, score=0.580 total time=   0.0s\n",
      "[CV 4/5] END ...............var_smoothing=1e-10;, score=0.780 total time=   0.0s\n",
      "[CV 5/5] END ...............var_smoothing=1e-10;, score=0.487 total time=   0.0s\n",
      "[CV 1/5] END ...............var_smoothing=1e-11;, score=0.713 total time=   0.0s\n",
      "[CV 2/5] END ...............var_smoothing=1e-11;, score=0.707 total time=   0.0s\n",
      "[CV 3/5] END ...............var_smoothing=1e-11;, score=0.580 total time=   0.0s\n",
      "[CV 4/5] END ...............var_smoothing=1e-11;, score=0.780 total time=   0.0s\n",
      "[CV 5/5] END ...............var_smoothing=1e-11;, score=0.487 total time=   0.0s\n"
     ]
    },
    {
     "data": {
      "text/html": [
       "<style>#sk-container-id-2 {color: black;background-color: white;}#sk-container-id-2 pre{padding: 0;}#sk-container-id-2 div.sk-toggleable {background-color: white;}#sk-container-id-2 label.sk-toggleable__label {cursor: pointer;display: block;width: 100%;margin-bottom: 0;padding: 0.3em;box-sizing: border-box;text-align: center;}#sk-container-id-2 label.sk-toggleable__label-arrow:before {content: \"▸\";float: left;margin-right: 0.25em;color: #696969;}#sk-container-id-2 label.sk-toggleable__label-arrow:hover:before {color: black;}#sk-container-id-2 div.sk-estimator:hover label.sk-toggleable__label-arrow:before {color: black;}#sk-container-id-2 div.sk-toggleable__content {max-height: 0;max-width: 0;overflow: hidden;text-align: left;background-color: #f0f8ff;}#sk-container-id-2 div.sk-toggleable__content pre {margin: 0.2em;color: black;border-radius: 0.25em;background-color: #f0f8ff;}#sk-container-id-2 input.sk-toggleable__control:checked~div.sk-toggleable__content {max-height: 200px;max-width: 100%;overflow: auto;}#sk-container-id-2 input.sk-toggleable__control:checked~label.sk-toggleable__label-arrow:before {content: \"▾\";}#sk-container-id-2 div.sk-estimator input.sk-toggleable__control:checked~label.sk-toggleable__label {background-color: #d4ebff;}#sk-container-id-2 div.sk-label input.sk-toggleable__control:checked~label.sk-toggleable__label {background-color: #d4ebff;}#sk-container-id-2 input.sk-hidden--visually {border: 0;clip: rect(1px 1px 1px 1px);clip: rect(1px, 1px, 1px, 1px);height: 1px;margin: -1px;overflow: hidden;padding: 0;position: absolute;width: 1px;}#sk-container-id-2 div.sk-estimator {font-family: monospace;background-color: #f0f8ff;border: 1px dotted black;border-radius: 0.25em;box-sizing: border-box;margin-bottom: 0.5em;}#sk-container-id-2 div.sk-estimator:hover {background-color: #d4ebff;}#sk-container-id-2 div.sk-parallel-item::after {content: \"\";width: 100%;border-bottom: 1px solid gray;flex-grow: 1;}#sk-container-id-2 div.sk-label:hover label.sk-toggleable__label {background-color: #d4ebff;}#sk-container-id-2 div.sk-serial::before {content: \"\";position: absolute;border-left: 1px solid gray;box-sizing: border-box;top: 0;bottom: 0;left: 50%;z-index: 0;}#sk-container-id-2 div.sk-serial {display: flex;flex-direction: column;align-items: center;background-color: white;padding-right: 0.2em;padding-left: 0.2em;position: relative;}#sk-container-id-2 div.sk-item {position: relative;z-index: 1;}#sk-container-id-2 div.sk-parallel {display: flex;align-items: stretch;justify-content: center;background-color: white;position: relative;}#sk-container-id-2 div.sk-item::before, #sk-container-id-2 div.sk-parallel-item::before {content: \"\";position: absolute;border-left: 1px solid gray;box-sizing: border-box;top: 0;bottom: 0;left: 50%;z-index: -1;}#sk-container-id-2 div.sk-parallel-item {display: flex;flex-direction: column;z-index: 1;position: relative;background-color: white;}#sk-container-id-2 div.sk-parallel-item:first-child::after {align-self: flex-end;width: 50%;}#sk-container-id-2 div.sk-parallel-item:last-child::after {align-self: flex-start;width: 50%;}#sk-container-id-2 div.sk-parallel-item:only-child::after {width: 0;}#sk-container-id-2 div.sk-dashed-wrapped {border: 1px dashed gray;margin: 0 0.4em 0.5em 0.4em;box-sizing: border-box;padding-bottom: 0.4em;background-color: white;}#sk-container-id-2 div.sk-label label {font-family: monospace;font-weight: bold;display: inline-block;line-height: 1.2em;}#sk-container-id-2 div.sk-label-container {text-align: center;}#sk-container-id-2 div.sk-container {/* jupyter's `normalize.less` sets `[hidden] { display: none; }` but bootstrap.min.css set `[hidden] { display: none !important; }` so we also need the `!important` here to be able to override the default hidden behavior on the sphinx rendered scikit-learn.org. See: https://github.com/scikit-learn/scikit-learn/issues/21755 */display: inline-block !important;position: relative;}#sk-container-id-2 div.sk-text-repr-fallback {display: none;}</style><div id=\"sk-container-id-2\" class=\"sk-top-container\"><div class=\"sk-text-repr-fallback\"><pre>GridSearchCV(cv=5, estimator=GaussianNB(),\n",
       "             param_grid={&#x27;var_smoothing&#x27;: [1e-09, 0.1, 0.001, 0.5, 0.05, 0.01,\n",
       "                                           1e-07, 1e-08, 1e-06, 1e-10, 1e-11]},\n",
       "             verbose=3)</pre><b>In a Jupyter environment, please rerun this cell to show the HTML representation or trust the notebook. <br />On GitHub, the HTML representation is unable to render, please try loading this page with nbviewer.org.</b></div><div class=\"sk-container\" hidden><div class=\"sk-item sk-dashed-wrapped\"><div class=\"sk-label-container\"><div class=\"sk-label sk-toggleable\"><input class=\"sk-toggleable__control sk-hidden--visually\" id=\"sk-estimator-id-2\" type=\"checkbox\" ><label for=\"sk-estimator-id-2\" class=\"sk-toggleable__label sk-toggleable__label-arrow\">GridSearchCV</label><div class=\"sk-toggleable__content\"><pre>GridSearchCV(cv=5, estimator=GaussianNB(),\n",
       "             param_grid={&#x27;var_smoothing&#x27;: [1e-09, 0.1, 0.001, 0.5, 0.05, 0.01,\n",
       "                                           1e-07, 1e-08, 1e-06, 1e-10, 1e-11]},\n",
       "             verbose=3)</pre></div></div></div><div class=\"sk-parallel\"><div class=\"sk-parallel-item\"><div class=\"sk-item\"><div class=\"sk-label-container\"><div class=\"sk-label sk-toggleable\"><input class=\"sk-toggleable__control sk-hidden--visually\" id=\"sk-estimator-id-3\" type=\"checkbox\" ><label for=\"sk-estimator-id-3\" class=\"sk-toggleable__label sk-toggleable__label-arrow\">estimator: GaussianNB</label><div class=\"sk-toggleable__content\"><pre>GaussianNB()</pre></div></div></div><div class=\"sk-serial\"><div class=\"sk-item\"><div class=\"sk-estimator sk-toggleable\"><input class=\"sk-toggleable__control sk-hidden--visually\" id=\"sk-estimator-id-4\" type=\"checkbox\" ><label for=\"sk-estimator-id-4\" class=\"sk-toggleable__label sk-toggleable__label-arrow\">GaussianNB</label><div class=\"sk-toggleable__content\"><pre>GaussianNB()</pre></div></div></div></div></div></div></div></div></div></div>"
      ],
      "text/plain": [
       "GridSearchCV(cv=5, estimator=GaussianNB(),\n",
       "             param_grid={'var_smoothing': [1e-09, 0.1, 0.001, 0.5, 0.05, 0.01,\n",
       "                                           1e-07, 1e-08, 1e-06, 1e-10, 1e-11]},\n",
       "             verbose=3)"
      ]
     },
     "execution_count": 32,
     "metadata": {},
     "output_type": "execute_result"
    }
   ],
   "source": [
    "gs.fit(scaler_train_data,y_train)"
   ]
  },
  {
   "cell_type": "code",
   "execution_count": 33,
   "id": "d17dca2c",
   "metadata": {},
   "outputs": [
    {
     "data": {
      "text/html": [
       "<style>#sk-container-id-3 {color: black;background-color: white;}#sk-container-id-3 pre{padding: 0;}#sk-container-id-3 div.sk-toggleable {background-color: white;}#sk-container-id-3 label.sk-toggleable__label {cursor: pointer;display: block;width: 100%;margin-bottom: 0;padding: 0.3em;box-sizing: border-box;text-align: center;}#sk-container-id-3 label.sk-toggleable__label-arrow:before {content: \"▸\";float: left;margin-right: 0.25em;color: #696969;}#sk-container-id-3 label.sk-toggleable__label-arrow:hover:before {color: black;}#sk-container-id-3 div.sk-estimator:hover label.sk-toggleable__label-arrow:before {color: black;}#sk-container-id-3 div.sk-toggleable__content {max-height: 0;max-width: 0;overflow: hidden;text-align: left;background-color: #f0f8ff;}#sk-container-id-3 div.sk-toggleable__content pre {margin: 0.2em;color: black;border-radius: 0.25em;background-color: #f0f8ff;}#sk-container-id-3 input.sk-toggleable__control:checked~div.sk-toggleable__content {max-height: 200px;max-width: 100%;overflow: auto;}#sk-container-id-3 input.sk-toggleable__control:checked~label.sk-toggleable__label-arrow:before {content: \"▾\";}#sk-container-id-3 div.sk-estimator input.sk-toggleable__control:checked~label.sk-toggleable__label {background-color: #d4ebff;}#sk-container-id-3 div.sk-label input.sk-toggleable__control:checked~label.sk-toggleable__label {background-color: #d4ebff;}#sk-container-id-3 input.sk-hidden--visually {border: 0;clip: rect(1px 1px 1px 1px);clip: rect(1px, 1px, 1px, 1px);height: 1px;margin: -1px;overflow: hidden;padding: 0;position: absolute;width: 1px;}#sk-container-id-3 div.sk-estimator {font-family: monospace;background-color: #f0f8ff;border: 1px dotted black;border-radius: 0.25em;box-sizing: border-box;margin-bottom: 0.5em;}#sk-container-id-3 div.sk-estimator:hover {background-color: #d4ebff;}#sk-container-id-3 div.sk-parallel-item::after {content: \"\";width: 100%;border-bottom: 1px solid gray;flex-grow: 1;}#sk-container-id-3 div.sk-label:hover label.sk-toggleable__label {background-color: #d4ebff;}#sk-container-id-3 div.sk-serial::before {content: \"\";position: absolute;border-left: 1px solid gray;box-sizing: border-box;top: 0;bottom: 0;left: 50%;z-index: 0;}#sk-container-id-3 div.sk-serial {display: flex;flex-direction: column;align-items: center;background-color: white;padding-right: 0.2em;padding-left: 0.2em;position: relative;}#sk-container-id-3 div.sk-item {position: relative;z-index: 1;}#sk-container-id-3 div.sk-parallel {display: flex;align-items: stretch;justify-content: center;background-color: white;position: relative;}#sk-container-id-3 div.sk-item::before, #sk-container-id-3 div.sk-parallel-item::before {content: \"\";position: absolute;border-left: 1px solid gray;box-sizing: border-box;top: 0;bottom: 0;left: 50%;z-index: -1;}#sk-container-id-3 div.sk-parallel-item {display: flex;flex-direction: column;z-index: 1;position: relative;background-color: white;}#sk-container-id-3 div.sk-parallel-item:first-child::after {align-self: flex-end;width: 50%;}#sk-container-id-3 div.sk-parallel-item:last-child::after {align-self: flex-start;width: 50%;}#sk-container-id-3 div.sk-parallel-item:only-child::after {width: 0;}#sk-container-id-3 div.sk-dashed-wrapped {border: 1px dashed gray;margin: 0 0.4em 0.5em 0.4em;box-sizing: border-box;padding-bottom: 0.4em;background-color: white;}#sk-container-id-3 div.sk-label label {font-family: monospace;font-weight: bold;display: inline-block;line-height: 1.2em;}#sk-container-id-3 div.sk-label-container {text-align: center;}#sk-container-id-3 div.sk-container {/* jupyter's `normalize.less` sets `[hidden] { display: none; }` but bootstrap.min.css set `[hidden] { display: none !important; }` so we also need the `!important` here to be able to override the default hidden behavior on the sphinx rendered scikit-learn.org. See: https://github.com/scikit-learn/scikit-learn/issues/21755 */display: inline-block !important;position: relative;}#sk-container-id-3 div.sk-text-repr-fallback {display: none;}</style><div id=\"sk-container-id-3\" class=\"sk-top-container\"><div class=\"sk-text-repr-fallback\"><pre>GaussianNB(var_smoothing=0.5)</pre><b>In a Jupyter environment, please rerun this cell to show the HTML representation or trust the notebook. <br />On GitHub, the HTML representation is unable to render, please try loading this page with nbviewer.org.</b></div><div class=\"sk-container\" hidden><div class=\"sk-item\"><div class=\"sk-estimator sk-toggleable\"><input class=\"sk-toggleable__control sk-hidden--visually\" id=\"sk-estimator-id-5\" type=\"checkbox\" checked><label for=\"sk-estimator-id-5\" class=\"sk-toggleable__label sk-toggleable__label-arrow\">GaussianNB</label><div class=\"sk-toggleable__content\"><pre>GaussianNB(var_smoothing=0.5)</pre></div></div></div></div></div>"
      ],
      "text/plain": [
       "GaussianNB(var_smoothing=0.5)"
      ]
     },
     "execution_count": 33,
     "metadata": {},
     "output_type": "execute_result"
    }
   ],
   "source": [
    "gs.best_estimator_"
   ]
  },
  {
   "cell_type": "code",
   "execution_count": 34,
   "id": "c2384e69",
   "metadata": {},
   "outputs": [
    {
     "data": {
      "text/plain": [
       "0.8047808764940239"
      ]
     },
     "execution_count": 34,
     "metadata": {},
     "output_type": "execute_result"
    }
   ],
   "source": [
    "clf2 =GaussianNB(var_smoothing=0.5)\n",
    "clf2.fit(scaler_train_data,y_train)\n",
    "y_pred=clf2.predict(scaler_test_data)\n",
    "accuracy_score(y_pred,y_test)"
   ]
  },
  {
   "cell_type": "code",
   "execution_count": null,
   "id": "b98052d7",
   "metadata": {},
   "outputs": [],
   "source": [
    "\n"
   ]
  },
  {
   "cell_type": "code",
   "execution_count": null,
   "id": "19d48f4d",
   "metadata": {},
   "outputs": [],
   "source": []
  },
  {
   "cell_type": "code",
   "execution_count": 35,
   "id": "d5bd255a",
   "metadata": {},
   "outputs": [],
   "source": [
    "from xgboost import XGBClassifier"
   ]
  },
  {
   "cell_type": "code",
   "execution_count": 37,
   "id": "f3b8b209",
   "metadata": {},
   "outputs": [],
   "source": [
    "xgb= XGBClassifier()"
   ]
  },
  {
   "cell_type": "code",
   "execution_count": 38,
   "id": "d51bb5d6",
   "metadata": {},
   "outputs": [
    {
     "data": {
      "text/html": [
       "<style>#sk-container-id-4 {color: black;background-color: white;}#sk-container-id-4 pre{padding: 0;}#sk-container-id-4 div.sk-toggleable {background-color: white;}#sk-container-id-4 label.sk-toggleable__label {cursor: pointer;display: block;width: 100%;margin-bottom: 0;padding: 0.3em;box-sizing: border-box;text-align: center;}#sk-container-id-4 label.sk-toggleable__label-arrow:before {content: \"▸\";float: left;margin-right: 0.25em;color: #696969;}#sk-container-id-4 label.sk-toggleable__label-arrow:hover:before {color: black;}#sk-container-id-4 div.sk-estimator:hover label.sk-toggleable__label-arrow:before {color: black;}#sk-container-id-4 div.sk-toggleable__content {max-height: 0;max-width: 0;overflow: hidden;text-align: left;background-color: #f0f8ff;}#sk-container-id-4 div.sk-toggleable__content pre {margin: 0.2em;color: black;border-radius: 0.25em;background-color: #f0f8ff;}#sk-container-id-4 input.sk-toggleable__control:checked~div.sk-toggleable__content {max-height: 200px;max-width: 100%;overflow: auto;}#sk-container-id-4 input.sk-toggleable__control:checked~label.sk-toggleable__label-arrow:before {content: \"▾\";}#sk-container-id-4 div.sk-estimator input.sk-toggleable__control:checked~label.sk-toggleable__label {background-color: #d4ebff;}#sk-container-id-4 div.sk-label input.sk-toggleable__control:checked~label.sk-toggleable__label {background-color: #d4ebff;}#sk-container-id-4 input.sk-hidden--visually {border: 0;clip: rect(1px 1px 1px 1px);clip: rect(1px, 1px, 1px, 1px);height: 1px;margin: -1px;overflow: hidden;padding: 0;position: absolute;width: 1px;}#sk-container-id-4 div.sk-estimator {font-family: monospace;background-color: #f0f8ff;border: 1px dotted black;border-radius: 0.25em;box-sizing: border-box;margin-bottom: 0.5em;}#sk-container-id-4 div.sk-estimator:hover {background-color: #d4ebff;}#sk-container-id-4 div.sk-parallel-item::after {content: \"\";width: 100%;border-bottom: 1px solid gray;flex-grow: 1;}#sk-container-id-4 div.sk-label:hover label.sk-toggleable__label {background-color: #d4ebff;}#sk-container-id-4 div.sk-serial::before {content: \"\";position: absolute;border-left: 1px solid gray;box-sizing: border-box;top: 0;bottom: 0;left: 50%;z-index: 0;}#sk-container-id-4 div.sk-serial {display: flex;flex-direction: column;align-items: center;background-color: white;padding-right: 0.2em;padding-left: 0.2em;position: relative;}#sk-container-id-4 div.sk-item {position: relative;z-index: 1;}#sk-container-id-4 div.sk-parallel {display: flex;align-items: stretch;justify-content: center;background-color: white;position: relative;}#sk-container-id-4 div.sk-item::before, #sk-container-id-4 div.sk-parallel-item::before {content: \"\";position: absolute;border-left: 1px solid gray;box-sizing: border-box;top: 0;bottom: 0;left: 50%;z-index: -1;}#sk-container-id-4 div.sk-parallel-item {display: flex;flex-direction: column;z-index: 1;position: relative;background-color: white;}#sk-container-id-4 div.sk-parallel-item:first-child::after {align-self: flex-end;width: 50%;}#sk-container-id-4 div.sk-parallel-item:last-child::after {align-self: flex-start;width: 50%;}#sk-container-id-4 div.sk-parallel-item:only-child::after {width: 0;}#sk-container-id-4 div.sk-dashed-wrapped {border: 1px dashed gray;margin: 0 0.4em 0.5em 0.4em;box-sizing: border-box;padding-bottom: 0.4em;background-color: white;}#sk-container-id-4 div.sk-label label {font-family: monospace;font-weight: bold;display: inline-block;line-height: 1.2em;}#sk-container-id-4 div.sk-label-container {text-align: center;}#sk-container-id-4 div.sk-container {/* jupyter's `normalize.less` sets `[hidden] { display: none; }` but bootstrap.min.css set `[hidden] { display: none !important; }` so we also need the `!important` here to be able to override the default hidden behavior on the sphinx rendered scikit-learn.org. See: https://github.com/scikit-learn/scikit-learn/issues/21755 */display: inline-block !important;position: relative;}#sk-container-id-4 div.sk-text-repr-fallback {display: none;}</style><div id=\"sk-container-id-4\" class=\"sk-top-container\"><div class=\"sk-text-repr-fallback\"><pre>XGBClassifier(base_score=0.5, booster=&#x27;gbtree&#x27;, callbacks=None,\n",
       "              colsample_bylevel=1, colsample_bynode=1, colsample_bytree=1,\n",
       "              early_stopping_rounds=None, enable_categorical=False,\n",
       "              eval_metric=None, gamma=0, gpu_id=-1, grow_policy=&#x27;depthwise&#x27;,\n",
       "              importance_type=None, interaction_constraints=&#x27;&#x27;,\n",
       "              learning_rate=0.300000012, max_bin=256, max_cat_to_onehot=4,\n",
       "              max_delta_step=0, max_depth=6, max_leaves=0, min_child_weight=1,\n",
       "              missing=nan, monotone_constraints=&#x27;()&#x27;, n_estimators=100,\n",
       "              n_jobs=0, num_parallel_tree=1, predictor=&#x27;auto&#x27;, random_state=0,\n",
       "              reg_alpha=0, reg_lambda=1, ...)</pre><b>In a Jupyter environment, please rerun this cell to show the HTML representation or trust the notebook. <br />On GitHub, the HTML representation is unable to render, please try loading this page with nbviewer.org.</b></div><div class=\"sk-container\" hidden><div class=\"sk-item\"><div class=\"sk-estimator sk-toggleable\"><input class=\"sk-toggleable__control sk-hidden--visually\" id=\"sk-estimator-id-6\" type=\"checkbox\" checked><label for=\"sk-estimator-id-6\" class=\"sk-toggleable__label sk-toggleable__label-arrow\">XGBClassifier</label><div class=\"sk-toggleable__content\"><pre>XGBClassifier(base_score=0.5, booster=&#x27;gbtree&#x27;, callbacks=None,\n",
       "              colsample_bylevel=1, colsample_bynode=1, colsample_bytree=1,\n",
       "              early_stopping_rounds=None, enable_categorical=False,\n",
       "              eval_metric=None, gamma=0, gpu_id=-1, grow_policy=&#x27;depthwise&#x27;,\n",
       "              importance_type=None, interaction_constraints=&#x27;&#x27;,\n",
       "              learning_rate=0.300000012, max_bin=256, max_cat_to_onehot=4,\n",
       "              max_delta_step=0, max_depth=6, max_leaves=0, min_child_weight=1,\n",
       "              missing=nan, monotone_constraints=&#x27;()&#x27;, n_estimators=100,\n",
       "              n_jobs=0, num_parallel_tree=1, predictor=&#x27;auto&#x27;, random_state=0,\n",
       "              reg_alpha=0, reg_lambda=1, ...)</pre></div></div></div></div></div>"
      ],
      "text/plain": [
       "XGBClassifier(base_score=0.5, booster='gbtree', callbacks=None,\n",
       "              colsample_bylevel=1, colsample_bynode=1, colsample_bytree=1,\n",
       "              early_stopping_rounds=None, enable_categorical=False,\n",
       "              eval_metric=None, gamma=0, gpu_id=-1, grow_policy='depthwise',\n",
       "              importance_type=None, interaction_constraints='',\n",
       "              learning_rate=0.300000012, max_bin=256, max_cat_to_onehot=4,\n",
       "              max_delta_step=0, max_depth=6, max_leaves=0, min_child_weight=1,\n",
       "              missing=nan, monotone_constraints='()', n_estimators=100,\n",
       "              n_jobs=0, num_parallel_tree=1, predictor='auto', random_state=0,\n",
       "              reg_alpha=0, reg_lambda=1, ...)"
      ]
     },
     "execution_count": 38,
     "metadata": {},
     "output_type": "execute_result"
    }
   ],
   "source": [
    "xgb.fit(scaler_train_data,y_train)"
   ]
  },
  {
   "cell_type": "code",
   "execution_count": 39,
   "id": "15271e53",
   "metadata": {},
   "outputs": [],
   "source": [
    "y_pred3=xgb.predict(scaler_test_data)"
   ]
  },
  {
   "cell_type": "code",
   "execution_count": 40,
   "id": "5a17894a",
   "metadata": {},
   "outputs": [
    {
     "data": {
      "text/plain": [
       "0.8047808764940239"
      ]
     },
     "execution_count": 40,
     "metadata": {},
     "output_type": "execute_result"
    }
   ],
   "source": [
    "accuracy_score(y_pred3,y_test)"
   ]
  },
  {
   "cell_type": "code",
   "execution_count": 41,
   "id": "b0dfb7e6",
   "metadata": {},
   "outputs": [],
   "source": [
    "param_grid_xgboost={'n_estimators':[50,100,130],\n",
    "                   'max_depth':range(3,11,1),\n",
    "                   'random_state':[0,50,100]\n",
    "                   }\n",
    "\n",
    "# Creating an object of the grid search class\n",
    "grid=GridSearchCV(XGBClassifier(objective='binary:logistic'),param_grid_xgboost,verbose=3,cv=5,n_jobs=1)"
   ]
  },
  {
   "cell_type": "code",
   "execution_count": 43,
   "id": "8677b796",
   "metadata": {},
   "outputs": [
    {
     "name": "stdout",
     "output_type": "stream",
     "text": [
      "Fitting 5 folds for each of 72 candidates, totalling 360 fits\n",
      "[CV 1/5] END max_depth=3, n_estimators=50, random_state=0;, score=0.740 total time=   0.6s\n",
      "[CV 2/5] END max_depth=3, n_estimators=50, random_state=0;, score=0.747 total time=   0.7s\n",
      "[CV 3/5] END max_depth=3, n_estimators=50, random_state=0;, score=0.800 total time=   0.5s\n",
      "[CV 4/5] END max_depth=3, n_estimators=50, random_state=0;, score=0.787 total time=   0.6s\n",
      "[CV 5/5] END max_depth=3, n_estimators=50, random_state=0;, score=0.787 total time=   2.2s\n",
      "[CV 1/5] END max_depth=3, n_estimators=50, random_state=50;, score=0.740 total time=   0.3s\n",
      "[CV 2/5] END max_depth=3, n_estimators=50, random_state=50;, score=0.747 total time=   0.5s\n",
      "[CV 3/5] END max_depth=3, n_estimators=50, random_state=50;, score=0.800 total time=   0.8s\n",
      "[CV 4/5] END max_depth=3, n_estimators=50, random_state=50;, score=0.787 total time=   0.9s\n",
      "[CV 5/5] END max_depth=3, n_estimators=50, random_state=50;, score=0.787 total time=   1.0s\n",
      "[CV 1/5] END max_depth=3, n_estimators=50, random_state=100;, score=0.740 total time=   0.7s\n",
      "[CV 2/5] END max_depth=3, n_estimators=50, random_state=100;, score=0.747 total time=   0.4s\n",
      "[CV 3/5] END max_depth=3, n_estimators=50, random_state=100;, score=0.800 total time=   0.8s\n",
      "[CV 4/5] END max_depth=3, n_estimators=50, random_state=100;, score=0.787 total time=   1.0s\n",
      "[CV 5/5] END max_depth=3, n_estimators=50, random_state=100;, score=0.787 total time=   0.5s\n",
      "[CV 1/5] END max_depth=3, n_estimators=100, random_state=0;, score=0.707 total time=   1.0s\n",
      "[CV 2/5] END max_depth=3, n_estimators=100, random_state=0;, score=0.753 total time=   0.8s\n",
      "[CV 3/5] END max_depth=3, n_estimators=100, random_state=0;, score=0.807 total time=   0.6s\n",
      "[CV 4/5] END max_depth=3, n_estimators=100, random_state=0;, score=0.787 total time=   0.6s\n",
      "[CV 5/5] END max_depth=3, n_estimators=100, random_state=0;, score=0.793 total time=   1.8s\n",
      "[CV 1/5] END max_depth=3, n_estimators=100, random_state=50;, score=0.707 total time=   0.8s\n",
      "[CV 2/5] END max_depth=3, n_estimators=100, random_state=50;, score=0.753 total time=   0.8s\n",
      "[CV 3/5] END max_depth=3, n_estimators=100, random_state=50;, score=0.807 total time=   0.7s\n",
      "[CV 4/5] END max_depth=3, n_estimators=100, random_state=50;, score=0.787 total time=   1.1s\n",
      "[CV 5/5] END max_depth=3, n_estimators=100, random_state=50;, score=0.793 total time=   0.8s\n",
      "[CV 1/5] END max_depth=3, n_estimators=100, random_state=100;, score=0.707 total time=   0.8s\n",
      "[CV 2/5] END max_depth=3, n_estimators=100, random_state=100;, score=0.753 total time=   0.7s\n",
      "[CV 3/5] END max_depth=3, n_estimators=100, random_state=100;, score=0.807 total time=   0.7s\n",
      "[CV 4/5] END max_depth=3, n_estimators=100, random_state=100;, score=0.787 total time=   1.0s\n",
      "[CV 5/5] END max_depth=3, n_estimators=100, random_state=100;, score=0.793 total time=   0.6s\n",
      "[CV 1/5] END max_depth=3, n_estimators=130, random_state=0;, score=0.720 total time=   0.3s\n",
      "[CV 2/5] END max_depth=3, n_estimators=130, random_state=0;, score=0.767 total time=   0.3s\n",
      "[CV 3/5] END max_depth=3, n_estimators=130, random_state=0;, score=0.793 total time=   0.3s\n",
      "[CV 4/5] END max_depth=3, n_estimators=130, random_state=0;, score=0.780 total time=   0.3s\n",
      "[CV 5/5] END max_depth=3, n_estimators=130, random_state=0;, score=0.773 total time=   0.3s\n",
      "[CV 1/5] END max_depth=3, n_estimators=130, random_state=50;, score=0.720 total time=   0.3s\n",
      "[CV 2/5] END max_depth=3, n_estimators=130, random_state=50;, score=0.767 total time=   0.3s\n",
      "[CV 3/5] END max_depth=3, n_estimators=130, random_state=50;, score=0.793 total time=   0.3s\n",
      "[CV 4/5] END max_depth=3, n_estimators=130, random_state=50;, score=0.780 total time=   0.3s\n",
      "[CV 5/5] END max_depth=3, n_estimators=130, random_state=50;, score=0.773 total time=   0.6s\n",
      "[CV 1/5] END max_depth=3, n_estimators=130, random_state=100;, score=0.720 total time=   0.7s\n",
      "[CV 2/5] END max_depth=3, n_estimators=130, random_state=100;, score=0.767 total time=   0.4s\n",
      "[CV 3/5] END max_depth=3, n_estimators=130, random_state=100;, score=0.793 total time=   0.4s\n",
      "[CV 4/5] END max_depth=3, n_estimators=130, random_state=100;, score=0.780 total time=   0.3s\n",
      "[CV 5/5] END max_depth=3, n_estimators=130, random_state=100;, score=0.773 total time=   0.4s\n",
      "[CV 1/5] END max_depth=4, n_estimators=50, random_state=0;, score=0.740 total time=   0.1s\n",
      "[CV 2/5] END max_depth=4, n_estimators=50, random_state=0;, score=0.780 total time=   0.1s\n",
      "[CV 3/5] END max_depth=4, n_estimators=50, random_state=0;, score=0.807 total time=   0.1s\n",
      "[CV 4/5] END max_depth=4, n_estimators=50, random_state=0;, score=0.800 total time=   0.2s\n",
      "[CV 5/5] END max_depth=4, n_estimators=50, random_state=0;, score=0.793 total time=   0.1s\n",
      "[CV 1/5] END max_depth=4, n_estimators=50, random_state=50;, score=0.740 total time=   0.3s\n",
      "[CV 2/5] END max_depth=4, n_estimators=50, random_state=50;, score=0.780 total time=   0.4s\n",
      "[CV 3/5] END max_depth=4, n_estimators=50, random_state=50;, score=0.807 total time=   0.1s\n",
      "[CV 4/5] END max_depth=4, n_estimators=50, random_state=50;, score=0.800 total time=   0.2s\n",
      "[CV 5/5] END max_depth=4, n_estimators=50, random_state=50;, score=0.793 total time=   0.1s\n",
      "[CV 1/5] END max_depth=4, n_estimators=50, random_state=100;, score=0.740 total time=   0.1s\n",
      "[CV 2/5] END max_depth=4, n_estimators=50, random_state=100;, score=0.780 total time=   0.1s\n",
      "[CV 3/5] END max_depth=4, n_estimators=50, random_state=100;, score=0.807 total time=   0.1s\n",
      "[CV 4/5] END max_depth=4, n_estimators=50, random_state=100;, score=0.800 total time=   0.1s\n",
      "[CV 5/5] END max_depth=4, n_estimators=50, random_state=100;, score=0.793 total time=   0.1s\n",
      "[CV 1/5] END max_depth=4, n_estimators=100, random_state=0;, score=0.740 total time=   0.4s\n",
      "[CV 2/5] END max_depth=4, n_estimators=100, random_state=0;, score=0.800 total time=   0.3s\n",
      "[CV 3/5] END max_depth=4, n_estimators=100, random_state=0;, score=0.807 total time=   0.2s\n",
      "[CV 4/5] END max_depth=4, n_estimators=100, random_state=0;, score=0.807 total time=   0.2s\n",
      "[CV 5/5] END max_depth=4, n_estimators=100, random_state=0;, score=0.800 total time=   0.2s\n",
      "[CV 1/5] END max_depth=4, n_estimators=100, random_state=50;, score=0.740 total time=   0.2s\n",
      "[CV 2/5] END max_depth=4, n_estimators=100, random_state=50;, score=0.800 total time=   0.2s\n",
      "[CV 3/5] END max_depth=4, n_estimators=100, random_state=50;, score=0.807 total time=   0.3s\n",
      "[CV 4/5] END max_depth=4, n_estimators=100, random_state=50;, score=0.807 total time=   0.2s\n",
      "[CV 5/5] END max_depth=4, n_estimators=100, random_state=50;, score=0.800 total time=   0.2s\n",
      "[CV 1/5] END max_depth=4, n_estimators=100, random_state=100;, score=0.740 total time=   0.2s\n",
      "[CV 2/5] END max_depth=4, n_estimators=100, random_state=100;, score=0.800 total time=   0.3s\n",
      "[CV 3/5] END max_depth=4, n_estimators=100, random_state=100;, score=0.807 total time=   0.2s\n",
      "[CV 4/5] END max_depth=4, n_estimators=100, random_state=100;, score=0.807 total time=   0.2s\n",
      "[CV 5/5] END max_depth=4, n_estimators=100, random_state=100;, score=0.800 total time=   0.2s\n",
      "[CV 1/5] END max_depth=4, n_estimators=130, random_state=0;, score=0.740 total time=   0.3s\n",
      "[CV 2/5] END max_depth=4, n_estimators=130, random_state=0;, score=0.780 total time=   0.3s\n",
      "[CV 3/5] END max_depth=4, n_estimators=130, random_state=0;, score=0.813 total time=   0.3s\n",
      "[CV 4/5] END max_depth=4, n_estimators=130, random_state=0;, score=0.800 total time=   0.3s\n",
      "[CV 5/5] END max_depth=4, n_estimators=130, random_state=0;, score=0.787 total time=   0.3s\n",
      "[CV 1/5] END max_depth=4, n_estimators=130, random_state=50;, score=0.740 total time=   0.3s\n",
      "[CV 2/5] END max_depth=4, n_estimators=130, random_state=50;, score=0.780 total time=   0.4s\n",
      "[CV 3/5] END max_depth=4, n_estimators=130, random_state=50;, score=0.813 total time=   0.3s\n",
      "[CV 4/5] END max_depth=4, n_estimators=130, random_state=50;, score=0.800 total time=   0.3s\n",
      "[CV 5/5] END max_depth=4, n_estimators=130, random_state=50;, score=0.787 total time=   0.3s\n",
      "[CV 1/5] END max_depth=4, n_estimators=130, random_state=100;, score=0.740 total time=   0.5s\n",
      "[CV 2/5] END max_depth=4, n_estimators=130, random_state=100;, score=0.780 total time=   0.5s\n",
      "[CV 3/5] END max_depth=4, n_estimators=130, random_state=100;, score=0.813 total time=   0.4s\n",
      "[CV 4/5] END max_depth=4, n_estimators=130, random_state=100;, score=0.800 total time=   0.4s\n",
      "[CV 5/5] END max_depth=4, n_estimators=130, random_state=100;, score=0.787 total time=   0.4s\n",
      "[CV 1/5] END max_depth=5, n_estimators=50, random_state=0;, score=0.753 total time=   0.1s\n",
      "[CV 2/5] END max_depth=5, n_estimators=50, random_state=0;, score=0.753 total time=   0.1s\n",
      "[CV 3/5] END max_depth=5, n_estimators=50, random_state=0;, score=0.807 total time=   0.6s\n",
      "[CV 4/5] END max_depth=5, n_estimators=50, random_state=0;, score=0.807 total time=   0.7s\n",
      "[CV 5/5] END max_depth=5, n_estimators=50, random_state=0;, score=0.813 total time=   0.5s\n",
      "[CV 1/5] END max_depth=5, n_estimators=50, random_state=50;, score=0.753 total time=   0.3s\n",
      "[CV 2/5] END max_depth=5, n_estimators=50, random_state=50;, score=0.753 total time=   0.2s\n",
      "[CV 3/5] END max_depth=5, n_estimators=50, random_state=50;, score=0.807 total time=   0.2s\n",
      "[CV 4/5] END max_depth=5, n_estimators=50, random_state=50;, score=0.807 total time=   0.2s\n",
      "[CV 5/5] END max_depth=5, n_estimators=50, random_state=50;, score=0.813 total time=   0.2s\n",
      "[CV 1/5] END max_depth=5, n_estimators=50, random_state=100;, score=0.753 total time=   0.2s\n",
      "[CV 2/5] END max_depth=5, n_estimators=50, random_state=100;, score=0.753 total time=   0.2s\n",
      "[CV 3/5] END max_depth=5, n_estimators=50, random_state=100;, score=0.807 total time=   0.1s\n",
      "[CV 4/5] END max_depth=5, n_estimators=50, random_state=100;, score=0.807 total time=   0.1s\n",
      "[CV 5/5] END max_depth=5, n_estimators=50, random_state=100;, score=0.813 total time=   0.1s\n",
      "[CV 1/5] END max_depth=5, n_estimators=100, random_state=0;, score=0.747 total time=   0.6s\n",
      "[CV 2/5] END max_depth=5, n_estimators=100, random_state=0;, score=0.767 total time=   0.6s\n",
      "[CV 3/5] END max_depth=5, n_estimators=100, random_state=0;, score=0.820 total time=   0.6s\n",
      "[CV 4/5] END max_depth=5, n_estimators=100, random_state=0;, score=0.807 total time=   0.5s\n",
      "[CV 5/5] END max_depth=5, n_estimators=100, random_state=0;, score=0.807 total time=   0.6s\n",
      "[CV 1/5] END max_depth=5, n_estimators=100, random_state=50;, score=0.747 total time=   0.5s\n",
      "[CV 2/5] END max_depth=5, n_estimators=100, random_state=50;, score=0.767 total time=   0.6s\n",
      "[CV 3/5] END max_depth=5, n_estimators=100, random_state=50;, score=0.820 total time=   0.6s\n",
      "[CV 4/5] END max_depth=5, n_estimators=100, random_state=50;, score=0.807 total time=   0.6s\n",
      "[CV 5/5] END max_depth=5, n_estimators=100, random_state=50;, score=0.807 total time=   0.6s\n",
      "[CV 1/5] END max_depth=5, n_estimators=100, random_state=100;, score=0.747 total time=   0.6s\n",
      "[CV 2/5] END max_depth=5, n_estimators=100, random_state=100;, score=0.767 total time=   0.6s\n",
      "[CV 3/5] END max_depth=5, n_estimators=100, random_state=100;, score=0.820 total time=   0.6s\n",
      "[CV 4/5] END max_depth=5, n_estimators=100, random_state=100;, score=0.807 total time=   0.7s\n",
      "[CV 5/5] END max_depth=5, n_estimators=100, random_state=100;, score=0.807 total time=   0.4s\n",
      "[CV 1/5] END max_depth=5, n_estimators=130, random_state=0;, score=0.733 total time=   0.4s\n",
      "[CV 2/5] END max_depth=5, n_estimators=130, random_state=0;, score=0.760 total time=   0.4s\n",
      "[CV 3/5] END max_depth=5, n_estimators=130, random_state=0;, score=0.807 total time=   0.4s\n",
      "[CV 4/5] END max_depth=5, n_estimators=130, random_state=0;, score=0.800 total time=   0.4s\n",
      "[CV 5/5] END max_depth=5, n_estimators=130, random_state=0;, score=0.800 total time=   0.4s\n",
      "[CV 1/5] END max_depth=5, n_estimators=130, random_state=50;, score=0.733 total time=   0.6s\n",
      "[CV 2/5] END max_depth=5, n_estimators=130, random_state=50;, score=0.760 total time=   0.7s\n",
      "[CV 3/5] END max_depth=5, n_estimators=130, random_state=50;, score=0.807 total time=   0.4s\n",
      "[CV 4/5] END max_depth=5, n_estimators=130, random_state=50;, score=0.800 total time=   0.7s\n",
      "[CV 5/5] END max_depth=5, n_estimators=130, random_state=50;, score=0.800 total time=   0.4s\n",
      "[CV 1/5] END max_depth=5, n_estimators=130, random_state=100;, score=0.733 total time=   0.6s\n",
      "[CV 2/5] END max_depth=5, n_estimators=130, random_state=100;, score=0.760 total time=   0.6s\n",
      "[CV 3/5] END max_depth=5, n_estimators=130, random_state=100;, score=0.807 total time=   0.6s\n",
      "[CV 4/5] END max_depth=5, n_estimators=130, random_state=100;, score=0.800 total time=   0.4s\n",
      "[CV 5/5] END max_depth=5, n_estimators=130, random_state=100;, score=0.800 total time=   0.8s\n",
      "[CV 1/5] END max_depth=6, n_estimators=50, random_state=0;, score=0.780 total time=   0.4s\n",
      "[CV 2/5] END max_depth=6, n_estimators=50, random_state=0;, score=0.753 total time=   0.3s\n",
      "[CV 3/5] END max_depth=6, n_estimators=50, random_state=0;, score=0.827 total time=   0.1s\n",
      "[CV 4/5] END max_depth=6, n_estimators=50, random_state=0;, score=0.780 total time=   0.4s\n",
      "[CV 5/5] END max_depth=6, n_estimators=50, random_state=0;, score=0.773 total time=   0.3s\n",
      "[CV 1/5] END max_depth=6, n_estimators=50, random_state=50;, score=0.780 total time=   0.5s\n",
      "[CV 2/5] END max_depth=6, n_estimators=50, random_state=50;, score=0.753 total time=   0.4s\n",
      "[CV 3/5] END max_depth=6, n_estimators=50, random_state=50;, score=0.827 total time=   0.4s\n",
      "[CV 4/5] END max_depth=6, n_estimators=50, random_state=50;, score=0.780 total time=   0.4s\n",
      "[CV 5/5] END max_depth=6, n_estimators=50, random_state=50;, score=0.773 total time=   0.4s\n",
      "[CV 1/5] END max_depth=6, n_estimators=50, random_state=100;, score=0.780 total time=   0.5s\n",
      "[CV 2/5] END max_depth=6, n_estimators=50, random_state=100;, score=0.753 total time=   0.4s\n",
      "[CV 3/5] END max_depth=6, n_estimators=50, random_state=100;, score=0.827 total time=   0.3s\n",
      "[CV 4/5] END max_depth=6, n_estimators=50, random_state=100;, score=0.780 total time=   0.7s\n",
      "[CV 5/5] END max_depth=6, n_estimators=50, random_state=100;, score=0.773 total time=   0.4s\n",
      "[CV 1/5] END max_depth=6, n_estimators=100, random_state=0;, score=0.767 total time=   0.6s\n",
      "[CV 2/5] END max_depth=6, n_estimators=100, random_state=0;, score=0.767 total time=   0.6s\n",
      "[CV 3/5] END max_depth=6, n_estimators=100, random_state=0;, score=0.827 total time=   0.5s\n",
      "[CV 4/5] END max_depth=6, n_estimators=100, random_state=0;, score=0.780 total time=   0.7s\n",
      "[CV 5/5] END max_depth=6, n_estimators=100, random_state=0;, score=0.767 total time=   0.7s\n",
      "[CV 1/5] END max_depth=6, n_estimators=100, random_state=50;, score=0.767 total time=   0.6s\n",
      "[CV 2/5] END max_depth=6, n_estimators=100, random_state=50;, score=0.767 total time=   0.5s\n",
      "[CV 3/5] END max_depth=6, n_estimators=100, random_state=50;, score=0.827 total time=   0.5s\n",
      "[CV 4/5] END max_depth=6, n_estimators=100, random_state=50;, score=0.780 total time=   0.3s\n",
      "[CV 5/5] END max_depth=6, n_estimators=100, random_state=50;, score=0.767 total time=   0.5s\n",
      "[CV 1/5] END max_depth=6, n_estimators=100, random_state=100;, score=0.767 total time=   0.7s\n",
      "[CV 2/5] END max_depth=6, n_estimators=100, random_state=100;, score=0.767 total time=   0.7s\n",
      "[CV 3/5] END max_depth=6, n_estimators=100, random_state=100;, score=0.827 total time=   0.7s\n",
      "[CV 4/5] END max_depth=6, n_estimators=100, random_state=100;, score=0.780 total time=   0.6s\n",
      "[CV 5/5] END max_depth=6, n_estimators=100, random_state=100;, score=0.767 total time=   0.6s\n",
      "[CV 1/5] END max_depth=6, n_estimators=130, random_state=0;, score=0.753 total time=   0.4s\n",
      "[CV 2/5] END max_depth=6, n_estimators=130, random_state=0;, score=0.753 total time=   0.8s\n",
      "[CV 3/5] END max_depth=6, n_estimators=130, random_state=0;, score=0.833 total time=   0.8s\n",
      "[CV 4/5] END max_depth=6, n_estimators=130, random_state=0;, score=0.787 total time=   0.8s\n",
      "[CV 5/5] END max_depth=6, n_estimators=130, random_state=0;, score=0.760 total time=   0.8s\n",
      "[CV 1/5] END max_depth=6, n_estimators=130, random_state=50;, score=0.753 total time=   0.8s\n",
      "[CV 2/5] END max_depth=6, n_estimators=130, random_state=50;, score=0.753 total time=   0.3s\n",
      "[CV 3/5] END max_depth=6, n_estimators=130, random_state=50;, score=0.833 total time=   0.4s\n",
      "[CV 4/5] END max_depth=6, n_estimators=130, random_state=50;, score=0.787 total time=   0.3s\n",
      "[CV 5/5] END max_depth=6, n_estimators=130, random_state=50;, score=0.760 total time=   0.3s\n",
      "[CV 1/5] END max_depth=6, n_estimators=130, random_state=100;, score=0.753 total time=   0.4s\n",
      "[CV 2/5] END max_depth=6, n_estimators=130, random_state=100;, score=0.753 total time=   0.4s\n",
      "[CV 3/5] END max_depth=6, n_estimators=130, random_state=100;, score=0.833 total time=   0.7s\n",
      "[CV 4/5] END max_depth=6, n_estimators=130, random_state=100;, score=0.787 total time=   0.9s\n",
      "[CV 5/5] END max_depth=6, n_estimators=130, random_state=100;, score=0.760 total time=   0.6s\n",
      "[CV 1/5] END max_depth=7, n_estimators=50, random_state=0;, score=0.733 total time=   0.1s\n",
      "[CV 2/5] END max_depth=7, n_estimators=50, random_state=0;, score=0.787 total time=   0.1s\n",
      "[CV 3/5] END max_depth=7, n_estimators=50, random_state=0;, score=0.800 total time=   0.1s\n",
      "[CV 4/5] END max_depth=7, n_estimators=50, random_state=0;, score=0.773 total time=   0.1s\n",
      "[CV 5/5] END max_depth=7, n_estimators=50, random_state=0;, score=0.773 total time=   0.1s\n",
      "[CV 1/5] END max_depth=7, n_estimators=50, random_state=50;, score=0.733 total time=   0.1s\n",
      "[CV 2/5] END max_depth=7, n_estimators=50, random_state=50;, score=0.787 total time=   0.1s\n",
      "[CV 3/5] END max_depth=7, n_estimators=50, random_state=50;, score=0.800 total time=   0.1s\n",
      "[CV 4/5] END max_depth=7, n_estimators=50, random_state=50;, score=0.773 total time=   0.1s\n",
      "[CV 5/5] END max_depth=7, n_estimators=50, random_state=50;, score=0.773 total time=   0.1s\n",
      "[CV 1/5] END max_depth=7, n_estimators=50, random_state=100;, score=0.733 total time=   0.1s\n",
      "[CV 2/5] END max_depth=7, n_estimators=50, random_state=100;, score=0.787 total time=   0.1s\n",
      "[CV 3/5] END max_depth=7, n_estimators=50, random_state=100;, score=0.800 total time=   0.1s\n",
      "[CV 4/5] END max_depth=7, n_estimators=50, random_state=100;, score=0.773 total time=   0.1s\n",
      "[CV 5/5] END max_depth=7, n_estimators=50, random_state=100;, score=0.773 total time=   0.1s\n",
      "[CV 1/5] END max_depth=7, n_estimators=100, random_state=0;, score=0.760 total time=   0.3s\n",
      "[CV 2/5] END max_depth=7, n_estimators=100, random_state=0;, score=0.767 total time=   0.3s\n",
      "[CV 3/5] END max_depth=7, n_estimators=100, random_state=0;, score=0.813 total time=   0.3s\n",
      "[CV 4/5] END max_depth=7, n_estimators=100, random_state=0;, score=0.773 total time=   0.3s\n",
      "[CV 5/5] END max_depth=7, n_estimators=100, random_state=0;, score=0.767 total time=   0.3s\n",
      "[CV 1/5] END max_depth=7, n_estimators=100, random_state=50;, score=0.760 total time=   0.3s\n",
      "[CV 2/5] END max_depth=7, n_estimators=100, random_state=50;, score=0.767 total time=   0.3s\n",
      "[CV 3/5] END max_depth=7, n_estimators=100, random_state=50;, score=0.813 total time=   0.3s\n",
      "[CV 4/5] END max_depth=7, n_estimators=100, random_state=50;, score=0.773 total time=   0.3s\n",
      "[CV 5/5] END max_depth=7, n_estimators=100, random_state=50;, score=0.767 total time=   0.3s\n",
      "[CV 1/5] END max_depth=7, n_estimators=100, random_state=100;, score=0.760 total time=   0.3s\n",
      "[CV 2/5] END max_depth=7, n_estimators=100, random_state=100;, score=0.767 total time=   0.3s\n",
      "[CV 3/5] END max_depth=7, n_estimators=100, random_state=100;, score=0.813 total time=   0.3s\n",
      "[CV 4/5] END max_depth=7, n_estimators=100, random_state=100;, score=0.773 total time=   0.3s\n",
      "[CV 5/5] END max_depth=7, n_estimators=100, random_state=100;, score=0.767 total time=   0.4s\n",
      "[CV 1/5] END max_depth=7, n_estimators=130, random_state=0;, score=0.767 total time=   0.4s\n",
      "[CV 2/5] END max_depth=7, n_estimators=130, random_state=0;, score=0.773 total time=   1.2s\n",
      "[CV 3/5] END max_depth=7, n_estimators=130, random_state=0;, score=0.813 total time=   0.8s\n",
      "[CV 4/5] END max_depth=7, n_estimators=130, random_state=0;, score=0.780 total time=   0.7s\n",
      "[CV 5/5] END max_depth=7, n_estimators=130, random_state=0;, score=0.767 total time=   0.4s\n",
      "[CV 1/5] END max_depth=7, n_estimators=130, random_state=50;, score=0.767 total time=   0.4s\n",
      "[CV 2/5] END max_depth=7, n_estimators=130, random_state=50;, score=0.773 total time=   0.4s\n",
      "[CV 3/5] END max_depth=7, n_estimators=130, random_state=50;, score=0.813 total time=   0.3s\n",
      "[CV 4/5] END max_depth=7, n_estimators=130, random_state=50;, score=0.780 total time=   0.4s\n",
      "[CV 5/5] END max_depth=7, n_estimators=130, random_state=50;, score=0.767 total time=   0.4s\n",
      "[CV 1/5] END max_depth=7, n_estimators=130, random_state=100;, score=0.767 total time=   0.4s\n",
      "[CV 2/5] END max_depth=7, n_estimators=130, random_state=100;, score=0.773 total time=   0.4s\n",
      "[CV 3/5] END max_depth=7, n_estimators=130, random_state=100;, score=0.813 total time=   0.3s\n",
      "[CV 4/5] END max_depth=7, n_estimators=130, random_state=100;, score=0.780 total time=   0.4s\n",
      "[CV 5/5] END max_depth=7, n_estimators=130, random_state=100;, score=0.767 total time=   0.4s\n",
      "[CV 1/5] END max_depth=8, n_estimators=50, random_state=0;, score=0.780 total time=   0.1s\n",
      "[CV 2/5] END max_depth=8, n_estimators=50, random_state=0;, score=0.767 total time=   0.1s\n",
      "[CV 3/5] END max_depth=8, n_estimators=50, random_state=0;, score=0.820 total time=   0.1s\n",
      "[CV 4/5] END max_depth=8, n_estimators=50, random_state=0;, score=0.780 total time=   0.1s\n",
      "[CV 5/5] END max_depth=8, n_estimators=50, random_state=0;, score=0.787 total time=   0.1s\n",
      "[CV 1/5] END max_depth=8, n_estimators=50, random_state=50;, score=0.780 total time=   0.2s\n",
      "[CV 2/5] END max_depth=8, n_estimators=50, random_state=50;, score=0.767 total time=   0.1s\n",
      "[CV 3/5] END max_depth=8, n_estimators=50, random_state=50;, score=0.820 total time=   0.1s\n",
      "[CV 4/5] END max_depth=8, n_estimators=50, random_state=50;, score=0.780 total time=   0.1s\n",
      "[CV 5/5] END max_depth=8, n_estimators=50, random_state=50;, score=0.787 total time=   0.1s\n",
      "[CV 1/5] END max_depth=8, n_estimators=50, random_state=100;, score=0.780 total time=   0.1s\n",
      "[CV 2/5] END max_depth=8, n_estimators=50, random_state=100;, score=0.767 total time=   0.1s\n",
      "[CV 3/5] END max_depth=8, n_estimators=50, random_state=100;, score=0.820 total time=   0.1s\n",
      "[CV 4/5] END max_depth=8, n_estimators=50, random_state=100;, score=0.780 total time=   0.1s\n",
      "[CV 5/5] END max_depth=8, n_estimators=50, random_state=100;, score=0.787 total time=   0.1s\n",
      "[CV 1/5] END max_depth=8, n_estimators=100, random_state=0;, score=0.773 total time=   0.3s\n",
      "[CV 2/5] END max_depth=8, n_estimators=100, random_state=0;, score=0.753 total time=   0.3s\n",
      "[CV 3/5] END max_depth=8, n_estimators=100, random_state=0;, score=0.820 total time=   0.3s\n",
      "[CV 4/5] END max_depth=8, n_estimators=100, random_state=0;, score=0.773 total time=   0.3s\n",
      "[CV 5/5] END max_depth=8, n_estimators=100, random_state=0;, score=0.800 total time=   0.3s\n",
      "[CV 1/5] END max_depth=8, n_estimators=100, random_state=50;, score=0.773 total time=   0.3s\n",
      "[CV 2/5] END max_depth=8, n_estimators=100, random_state=50;, score=0.753 total time=   0.3s\n",
      "[CV 3/5] END max_depth=8, n_estimators=100, random_state=50;, score=0.820 total time=   0.3s\n",
      "[CV 4/5] END max_depth=8, n_estimators=100, random_state=50;, score=0.773 total time=   0.3s\n",
      "[CV 5/5] END max_depth=8, n_estimators=100, random_state=50;, score=0.800 total time=   0.3s\n",
      "[CV 1/5] END max_depth=8, n_estimators=100, random_state=100;, score=0.773 total time=   0.3s\n",
      "[CV 2/5] END max_depth=8, n_estimators=100, random_state=100;, score=0.753 total time=   0.3s\n",
      "[CV 3/5] END max_depth=8, n_estimators=100, random_state=100;, score=0.820 total time=   0.3s\n",
      "[CV 4/5] END max_depth=8, n_estimators=100, random_state=100;, score=0.773 total time=   0.3s\n",
      "[CV 5/5] END max_depth=8, n_estimators=100, random_state=100;, score=0.800 total time=   0.3s\n",
      "[CV 1/5] END max_depth=8, n_estimators=130, random_state=0;, score=0.773 total time=   0.4s\n",
      "[CV 2/5] END max_depth=8, n_estimators=130, random_state=0;, score=0.753 total time=   1.1s\n",
      "[CV 3/5] END max_depth=8, n_estimators=130, random_state=0;, score=0.820 total time=   0.9s\n",
      "[CV 4/5] END max_depth=8, n_estimators=130, random_state=0;, score=0.773 total time=   0.8s\n",
      "[CV 5/5] END max_depth=8, n_estimators=130, random_state=0;, score=0.793 total time=   0.7s\n",
      "[CV 1/5] END max_depth=8, n_estimators=130, random_state=50;, score=0.773 total time=   0.4s\n",
      "[CV 2/5] END max_depth=8, n_estimators=130, random_state=50;, score=0.753 total time=   0.4s\n",
      "[CV 3/5] END max_depth=8, n_estimators=130, random_state=50;, score=0.820 total time=   0.4s\n",
      "[CV 4/5] END max_depth=8, n_estimators=130, random_state=50;, score=0.773 total time=   0.4s\n",
      "[CV 5/5] END max_depth=8, n_estimators=130, random_state=50;, score=0.793 total time=   0.4s\n",
      "[CV 1/5] END max_depth=8, n_estimators=130, random_state=100;, score=0.773 total time=   0.4s\n",
      "[CV 2/5] END max_depth=8, n_estimators=130, random_state=100;, score=0.753 total time=   0.4s\n",
      "[CV 3/5] END max_depth=8, n_estimators=130, random_state=100;, score=0.820 total time=   0.4s\n",
      "[CV 4/5] END max_depth=8, n_estimators=130, random_state=100;, score=0.773 total time=   0.4s\n",
      "[CV 5/5] END max_depth=8, n_estimators=130, random_state=100;, score=0.793 total time=   0.4s\n",
      "[CV 1/5] END max_depth=9, n_estimators=50, random_state=0;, score=0.773 total time=   0.1s\n",
      "[CV 2/5] END max_depth=9, n_estimators=50, random_state=0;, score=0.727 total time=   0.1s\n",
      "[CV 3/5] END max_depth=9, n_estimators=50, random_state=0;, score=0.833 total time=   0.3s\n",
      "[CV 4/5] END max_depth=9, n_estimators=50, random_state=0;, score=0.780 total time=   0.1s\n",
      "[CV 5/5] END max_depth=9, n_estimators=50, random_state=0;, score=0.793 total time=   0.1s\n",
      "[CV 1/5] END max_depth=9, n_estimators=50, random_state=50;, score=0.773 total time=   0.1s\n",
      "[CV 2/5] END max_depth=9, n_estimators=50, random_state=50;, score=0.727 total time=   0.2s\n",
      "[CV 3/5] END max_depth=9, n_estimators=50, random_state=50;, score=0.833 total time=   0.1s\n",
      "[CV 4/5] END max_depth=9, n_estimators=50, random_state=50;, score=0.780 total time=   0.1s\n",
      "[CV 5/5] END max_depth=9, n_estimators=50, random_state=50;, score=0.793 total time=   0.1s\n",
      "[CV 1/5] END max_depth=9, n_estimators=50, random_state=100;, score=0.773 total time=   0.1s\n",
      "[CV 2/5] END max_depth=9, n_estimators=50, random_state=100;, score=0.727 total time=   0.1s\n",
      "[CV 3/5] END max_depth=9, n_estimators=50, random_state=100;, score=0.833 total time=   0.2s\n",
      "[CV 4/5] END max_depth=9, n_estimators=50, random_state=100;, score=0.780 total time=   0.1s\n",
      "[CV 5/5] END max_depth=9, n_estimators=50, random_state=100;, score=0.793 total time=   0.1s\n",
      "[CV 1/5] END max_depth=9, n_estimators=100, random_state=0;, score=0.773 total time=   0.3s\n",
      "[CV 2/5] END max_depth=9, n_estimators=100, random_state=0;, score=0.727 total time=   0.3s\n",
      "[CV 3/5] END max_depth=9, n_estimators=100, random_state=0;, score=0.833 total time=   0.3s\n",
      "[CV 4/5] END max_depth=9, n_estimators=100, random_state=0;, score=0.780 total time=   0.3s\n",
      "[CV 5/5] END max_depth=9, n_estimators=100, random_state=0;, score=0.787 total time=   0.3s\n",
      "[CV 1/5] END max_depth=9, n_estimators=100, random_state=50;, score=0.773 total time=   0.3s\n",
      "[CV 2/5] END max_depth=9, n_estimators=100, random_state=50;, score=0.727 total time=   0.3s\n",
      "[CV 3/5] END max_depth=9, n_estimators=100, random_state=50;, score=0.833 total time=   0.3s\n",
      "[CV 4/5] END max_depth=9, n_estimators=100, random_state=50;, score=0.780 total time=   0.3s\n",
      "[CV 5/5] END max_depth=9, n_estimators=100, random_state=50;, score=0.787 total time=   0.3s\n",
      "[CV 1/5] END max_depth=9, n_estimators=100, random_state=100;, score=0.773 total time=   0.3s\n",
      "[CV 2/5] END max_depth=9, n_estimators=100, random_state=100;, score=0.727 total time=   0.3s\n",
      "[CV 3/5] END max_depth=9, n_estimators=100, random_state=100;, score=0.833 total time=   0.3s\n",
      "[CV 4/5] END max_depth=9, n_estimators=100, random_state=100;, score=0.780 total time=   0.3s\n",
      "[CV 5/5] END max_depth=9, n_estimators=100, random_state=100;, score=0.787 total time=   0.3s\n",
      "[CV 1/5] END max_depth=9, n_estimators=130, random_state=0;, score=0.773 total time=   0.4s\n",
      "[CV 2/5] END max_depth=9, n_estimators=130, random_state=0;, score=0.747 total time=   0.4s\n",
      "[CV 3/5] END max_depth=9, n_estimators=130, random_state=0;, score=0.827 total time=   0.4s\n",
      "[CV 4/5] END max_depth=9, n_estimators=130, random_state=0;, score=0.787 total time=   0.4s\n",
      "[CV 5/5] END max_depth=9, n_estimators=130, random_state=0;, score=0.780 total time=   0.4s\n",
      "[CV 1/5] END max_depth=9, n_estimators=130, random_state=50;, score=0.773 total time=   0.4s\n",
      "[CV 2/5] END max_depth=9, n_estimators=130, random_state=50;, score=0.747 total time=   0.4s\n",
      "[CV 3/5] END max_depth=9, n_estimators=130, random_state=50;, score=0.827 total time=   0.8s\n",
      "[CV 4/5] END max_depth=9, n_estimators=130, random_state=50;, score=0.787 total time=   0.8s\n",
      "[CV 5/5] END max_depth=9, n_estimators=130, random_state=50;, score=0.780 total time=   0.8s\n",
      "[CV 1/5] END max_depth=9, n_estimators=130, random_state=100;, score=0.773 total time=   0.8s\n",
      "[CV 2/5] END max_depth=9, n_estimators=130, random_state=100;, score=0.747 total time=   0.9s\n",
      "[CV 3/5] END max_depth=9, n_estimators=130, random_state=100;, score=0.827 total time=   0.4s\n",
      "[CV 4/5] END max_depth=9, n_estimators=130, random_state=100;, score=0.787 total time=   0.4s\n",
      "[CV 5/5] END max_depth=9, n_estimators=130, random_state=100;, score=0.780 total time=   0.4s\n",
      "[CV 1/5] END max_depth=10, n_estimators=50, random_state=0;, score=0.767 total time=   0.1s\n",
      "[CV 2/5] END max_depth=10, n_estimators=50, random_state=0;, score=0.787 total time=   0.1s\n",
      "[CV 3/5] END max_depth=10, n_estimators=50, random_state=0;, score=0.813 total time=   0.1s\n",
      "[CV 4/5] END max_depth=10, n_estimators=50, random_state=0;, score=0.767 total time=   0.1s\n",
      "[CV 5/5] END max_depth=10, n_estimators=50, random_state=0;, score=0.753 total time=   0.1s\n",
      "[CV 1/5] END max_depth=10, n_estimators=50, random_state=50;, score=0.767 total time=   0.1s\n",
      "[CV 2/5] END max_depth=10, n_estimators=50, random_state=50;, score=0.787 total time=   0.1s\n",
      "[CV 3/5] END max_depth=10, n_estimators=50, random_state=50;, score=0.813 total time=   0.1s\n",
      "[CV 4/5] END max_depth=10, n_estimators=50, random_state=50;, score=0.767 total time=   0.1s\n",
      "[CV 5/5] END max_depth=10, n_estimators=50, random_state=50;, score=0.753 total time=   0.1s\n",
      "[CV 1/5] END max_depth=10, n_estimators=50, random_state=100;, score=0.767 total time=   0.1s\n",
      "[CV 2/5] END max_depth=10, n_estimators=50, random_state=100;, score=0.787 total time=   0.1s\n",
      "[CV 3/5] END max_depth=10, n_estimators=50, random_state=100;, score=0.813 total time=   0.2s\n",
      "[CV 4/5] END max_depth=10, n_estimators=50, random_state=100;, score=0.767 total time=   0.1s\n",
      "[CV 5/5] END max_depth=10, n_estimators=50, random_state=100;, score=0.753 total time=   0.1s\n",
      "[CV 1/5] END max_depth=10, n_estimators=100, random_state=0;, score=0.767 total time=   0.3s\n",
      "[CV 2/5] END max_depth=10, n_estimators=100, random_state=0;, score=0.753 total time=   0.3s\n",
      "[CV 3/5] END max_depth=10, n_estimators=100, random_state=0;, score=0.820 total time=   0.3s\n",
      "[CV 4/5] END max_depth=10, n_estimators=100, random_state=0;, score=0.767 total time=   0.3s\n",
      "[CV 5/5] END max_depth=10, n_estimators=100, random_state=0;, score=0.753 total time=   0.3s\n",
      "[CV 1/5] END max_depth=10, n_estimators=100, random_state=50;, score=0.767 total time=   0.3s\n",
      "[CV 2/5] END max_depth=10, n_estimators=100, random_state=50;, score=0.753 total time=   0.3s\n",
      "[CV 3/5] END max_depth=10, n_estimators=100, random_state=50;, score=0.820 total time=   0.3s\n",
      "[CV 4/5] END max_depth=10, n_estimators=100, random_state=50;, score=0.767 total time=   0.3s\n",
      "[CV 5/5] END max_depth=10, n_estimators=100, random_state=50;, score=0.753 total time=   0.3s\n",
      "[CV 1/5] END max_depth=10, n_estimators=100, random_state=100;, score=0.767 total time=   0.3s\n",
      "[CV 2/5] END max_depth=10, n_estimators=100, random_state=100;, score=0.753 total time=   0.3s\n",
      "[CV 3/5] END max_depth=10, n_estimators=100, random_state=100;, score=0.820 total time=   0.3s\n",
      "[CV 4/5] END max_depth=10, n_estimators=100, random_state=100;, score=0.767 total time=   0.3s\n",
      "[CV 5/5] END max_depth=10, n_estimators=100, random_state=100;, score=0.753 total time=   0.3s\n",
      "[CV 1/5] END max_depth=10, n_estimators=130, random_state=0;, score=0.773 total time=   0.6s\n",
      "[CV 2/5] END max_depth=10, n_estimators=130, random_state=0;, score=0.753 total time=   0.6s\n",
      "[CV 3/5] END max_depth=10, n_estimators=130, random_state=0;, score=0.813 total time=   0.4s\n",
      "[CV 4/5] END max_depth=10, n_estimators=130, random_state=0;, score=0.773 total time=   0.4s\n",
      "[CV 5/5] END max_depth=10, n_estimators=130, random_state=0;, score=0.760 total time=   0.4s\n",
      "[CV 1/5] END max_depth=10, n_estimators=130, random_state=50;, score=0.773 total time=   0.4s\n",
      "[CV 2/5] END max_depth=10, n_estimators=130, random_state=50;, score=0.753 total time=   0.4s\n",
      "[CV 3/5] END max_depth=10, n_estimators=130, random_state=50;, score=0.813 total time=   0.4s\n",
      "[CV 4/5] END max_depth=10, n_estimators=130, random_state=50;, score=0.773 total time=   0.4s\n",
      "[CV 5/5] END max_depth=10, n_estimators=130, random_state=50;, score=0.760 total time=   0.4s\n",
      "[CV 1/5] END max_depth=10, n_estimators=130, random_state=100;, score=0.773 total time=   0.4s\n",
      "[CV 2/5] END max_depth=10, n_estimators=130, random_state=100;, score=0.753 total time=   0.4s\n",
      "[CV 3/5] END max_depth=10, n_estimators=130, random_state=100;, score=0.813 total time=   0.4s\n",
      "[CV 4/5] END max_depth=10, n_estimators=130, random_state=100;, score=0.773 total time=   0.4s\n",
      "[CV 5/5] END max_depth=10, n_estimators=130, random_state=100;, score=0.760 total time=   0.4s\n"
     ]
    },
    {
     "data": {
      "text/html": [
       "<style>#sk-container-id-5 {color: black;background-color: white;}#sk-container-id-5 pre{padding: 0;}#sk-container-id-5 div.sk-toggleable {background-color: white;}#sk-container-id-5 label.sk-toggleable__label {cursor: pointer;display: block;width: 100%;margin-bottom: 0;padding: 0.3em;box-sizing: border-box;text-align: center;}#sk-container-id-5 label.sk-toggleable__label-arrow:before {content: \"▸\";float: left;margin-right: 0.25em;color: #696969;}#sk-container-id-5 label.sk-toggleable__label-arrow:hover:before {color: black;}#sk-container-id-5 div.sk-estimator:hover label.sk-toggleable__label-arrow:before {color: black;}#sk-container-id-5 div.sk-toggleable__content {max-height: 0;max-width: 0;overflow: hidden;text-align: left;background-color: #f0f8ff;}#sk-container-id-5 div.sk-toggleable__content pre {margin: 0.2em;color: black;border-radius: 0.25em;background-color: #f0f8ff;}#sk-container-id-5 input.sk-toggleable__control:checked~div.sk-toggleable__content {max-height: 200px;max-width: 100%;overflow: auto;}#sk-container-id-5 input.sk-toggleable__control:checked~label.sk-toggleable__label-arrow:before {content: \"▾\";}#sk-container-id-5 div.sk-estimator input.sk-toggleable__control:checked~label.sk-toggleable__label {background-color: #d4ebff;}#sk-container-id-5 div.sk-label input.sk-toggleable__control:checked~label.sk-toggleable__label {background-color: #d4ebff;}#sk-container-id-5 input.sk-hidden--visually {border: 0;clip: rect(1px 1px 1px 1px);clip: rect(1px, 1px, 1px, 1px);height: 1px;margin: -1px;overflow: hidden;padding: 0;position: absolute;width: 1px;}#sk-container-id-5 div.sk-estimator {font-family: monospace;background-color: #f0f8ff;border: 1px dotted black;border-radius: 0.25em;box-sizing: border-box;margin-bottom: 0.5em;}#sk-container-id-5 div.sk-estimator:hover {background-color: #d4ebff;}#sk-container-id-5 div.sk-parallel-item::after {content: \"\";width: 100%;border-bottom: 1px solid gray;flex-grow: 1;}#sk-container-id-5 div.sk-label:hover label.sk-toggleable__label {background-color: #d4ebff;}#sk-container-id-5 div.sk-serial::before {content: \"\";position: absolute;border-left: 1px solid gray;box-sizing: border-box;top: 0;bottom: 0;left: 50%;z-index: 0;}#sk-container-id-5 div.sk-serial {display: flex;flex-direction: column;align-items: center;background-color: white;padding-right: 0.2em;padding-left: 0.2em;position: relative;}#sk-container-id-5 div.sk-item {position: relative;z-index: 1;}#sk-container-id-5 div.sk-parallel {display: flex;align-items: stretch;justify-content: center;background-color: white;position: relative;}#sk-container-id-5 div.sk-item::before, #sk-container-id-5 div.sk-parallel-item::before {content: \"\";position: absolute;border-left: 1px solid gray;box-sizing: border-box;top: 0;bottom: 0;left: 50%;z-index: -1;}#sk-container-id-5 div.sk-parallel-item {display: flex;flex-direction: column;z-index: 1;position: relative;background-color: white;}#sk-container-id-5 div.sk-parallel-item:first-child::after {align-self: flex-end;width: 50%;}#sk-container-id-5 div.sk-parallel-item:last-child::after {align-self: flex-start;width: 50%;}#sk-container-id-5 div.sk-parallel-item:only-child::after {width: 0;}#sk-container-id-5 div.sk-dashed-wrapped {border: 1px dashed gray;margin: 0 0.4em 0.5em 0.4em;box-sizing: border-box;padding-bottom: 0.4em;background-color: white;}#sk-container-id-5 div.sk-label label {font-family: monospace;font-weight: bold;display: inline-block;line-height: 1.2em;}#sk-container-id-5 div.sk-label-container {text-align: center;}#sk-container-id-5 div.sk-container {/* jupyter's `normalize.less` sets `[hidden] { display: none; }` but bootstrap.min.css set `[hidden] { display: none !important; }` so we also need the `!important` here to be able to override the default hidden behavior on the sphinx rendered scikit-learn.org. See: https://github.com/scikit-learn/scikit-learn/issues/21755 */display: inline-block !important;position: relative;}#sk-container-id-5 div.sk-text-repr-fallback {display: none;}</style><div id=\"sk-container-id-5\" class=\"sk-top-container\"><div class=\"sk-text-repr-fallback\"><pre>GridSearchCV(cv=5,\n",
       "             estimator=XGBClassifier(base_score=None, booster=None,\n",
       "                                     callbacks=None, colsample_bylevel=None,\n",
       "                                     colsample_bynode=None,\n",
       "                                     colsample_bytree=None,\n",
       "                                     early_stopping_rounds=None,\n",
       "                                     enable_categorical=False, eval_metric=None,\n",
       "                                     gamma=None, gpu_id=None, grow_policy=None,\n",
       "                                     importance_type=None,\n",
       "                                     interaction_constraints=None,\n",
       "                                     learning_rate=None, max_bin=None,\n",
       "                                     max_ca...ot=None,\n",
       "                                     max_delta_step=None, max_depth=None,\n",
       "                                     max_leaves=None, min_child_weight=None,\n",
       "                                     missing=nan, monotone_constraints=None,\n",
       "                                     n_estimators=100, n_jobs=None,\n",
       "                                     num_parallel_tree=None, predictor=None,\n",
       "                                     random_state=None, reg_alpha=None,\n",
       "                                     reg_lambda=None, ...),\n",
       "             n_jobs=1,\n",
       "             param_grid={&#x27;max_depth&#x27;: range(3, 11),\n",
       "                         &#x27;n_estimators&#x27;: [50, 100, 130],\n",
       "                         &#x27;random_state&#x27;: [0, 50, 100]},\n",
       "             verbose=3)</pre><b>In a Jupyter environment, please rerun this cell to show the HTML representation or trust the notebook. <br />On GitHub, the HTML representation is unable to render, please try loading this page with nbviewer.org.</b></div><div class=\"sk-container\" hidden><div class=\"sk-item sk-dashed-wrapped\"><div class=\"sk-label-container\"><div class=\"sk-label sk-toggleable\"><input class=\"sk-toggleable__control sk-hidden--visually\" id=\"sk-estimator-id-7\" type=\"checkbox\" ><label for=\"sk-estimator-id-7\" class=\"sk-toggleable__label sk-toggleable__label-arrow\">GridSearchCV</label><div class=\"sk-toggleable__content\"><pre>GridSearchCV(cv=5,\n",
       "             estimator=XGBClassifier(base_score=None, booster=None,\n",
       "                                     callbacks=None, colsample_bylevel=None,\n",
       "                                     colsample_bynode=None,\n",
       "                                     colsample_bytree=None,\n",
       "                                     early_stopping_rounds=None,\n",
       "                                     enable_categorical=False, eval_metric=None,\n",
       "                                     gamma=None, gpu_id=None, grow_policy=None,\n",
       "                                     importance_type=None,\n",
       "                                     interaction_constraints=None,\n",
       "                                     learning_rate=None, max_bin=None,\n",
       "                                     max_ca...ot=None,\n",
       "                                     max_delta_step=None, max_depth=None,\n",
       "                                     max_leaves=None, min_child_weight=None,\n",
       "                                     missing=nan, monotone_constraints=None,\n",
       "                                     n_estimators=100, n_jobs=None,\n",
       "                                     num_parallel_tree=None, predictor=None,\n",
       "                                     random_state=None, reg_alpha=None,\n",
       "                                     reg_lambda=None, ...),\n",
       "             n_jobs=1,\n",
       "             param_grid={&#x27;max_depth&#x27;: range(3, 11),\n",
       "                         &#x27;n_estimators&#x27;: [50, 100, 130],\n",
       "                         &#x27;random_state&#x27;: [0, 50, 100]},\n",
       "             verbose=3)</pre></div></div></div><div class=\"sk-parallel\"><div class=\"sk-parallel-item\"><div class=\"sk-item\"><div class=\"sk-label-container\"><div class=\"sk-label sk-toggleable\"><input class=\"sk-toggleable__control sk-hidden--visually\" id=\"sk-estimator-id-8\" type=\"checkbox\" ><label for=\"sk-estimator-id-8\" class=\"sk-toggleable__label sk-toggleable__label-arrow\">estimator: XGBClassifier</label><div class=\"sk-toggleable__content\"><pre>XGBClassifier(base_score=None, booster=None, callbacks=None,\n",
       "              colsample_bylevel=None, colsample_bynode=None,\n",
       "              colsample_bytree=None, early_stopping_rounds=None,\n",
       "              enable_categorical=False, eval_metric=None, gamma=None,\n",
       "              gpu_id=None, grow_policy=None, importance_type=None,\n",
       "              interaction_constraints=None, learning_rate=None, max_bin=None,\n",
       "              max_cat_to_onehot=None, max_delta_step=None, max_depth=None,\n",
       "              max_leaves=None, min_child_weight=None, missing=nan,\n",
       "              monotone_constraints=None, n_estimators=100, n_jobs=None,\n",
       "              num_parallel_tree=None, predictor=None, random_state=None,\n",
       "              reg_alpha=None, reg_lambda=None, ...)</pre></div></div></div><div class=\"sk-serial\"><div class=\"sk-item\"><div class=\"sk-estimator sk-toggleable\"><input class=\"sk-toggleable__control sk-hidden--visually\" id=\"sk-estimator-id-9\" type=\"checkbox\" ><label for=\"sk-estimator-id-9\" class=\"sk-toggleable__label sk-toggleable__label-arrow\">XGBClassifier</label><div class=\"sk-toggleable__content\"><pre>XGBClassifier(base_score=None, booster=None, callbacks=None,\n",
       "              colsample_bylevel=None, colsample_bynode=None,\n",
       "              colsample_bytree=None, early_stopping_rounds=None,\n",
       "              enable_categorical=False, eval_metric=None, gamma=None,\n",
       "              gpu_id=None, grow_policy=None, importance_type=None,\n",
       "              interaction_constraints=None, learning_rate=None, max_bin=None,\n",
       "              max_cat_to_onehot=None, max_delta_step=None, max_depth=None,\n",
       "              max_leaves=None, min_child_weight=None, missing=nan,\n",
       "              monotone_constraints=None, n_estimators=100, n_jobs=None,\n",
       "              num_parallel_tree=None, predictor=None, random_state=None,\n",
       "              reg_alpha=None, reg_lambda=None, ...)</pre></div></div></div></div></div></div></div></div></div></div>"
      ],
      "text/plain": [
       "GridSearchCV(cv=5,\n",
       "             estimator=XGBClassifier(base_score=None, booster=None,\n",
       "                                     callbacks=None, colsample_bylevel=None,\n",
       "                                     colsample_bynode=None,\n",
       "                                     colsample_bytree=None,\n",
       "                                     early_stopping_rounds=None,\n",
       "                                     enable_categorical=False, eval_metric=None,\n",
       "                                     gamma=None, gpu_id=None, grow_policy=None,\n",
       "                                     importance_type=None,\n",
       "                                     interaction_constraints=None,\n",
       "                                     learning_rate=None, max_bin=None,\n",
       "                                     max_ca...ot=None,\n",
       "                                     max_delta_step=None, max_depth=None,\n",
       "                                     max_leaves=None, min_child_weight=None,\n",
       "                                     missing=nan, monotone_constraints=None,\n",
       "                                     n_estimators=100, n_jobs=None,\n",
       "                                     num_parallel_tree=None, predictor=None,\n",
       "                                     random_state=None, reg_alpha=None,\n",
       "                                     reg_lambda=None, ...),\n",
       "             n_jobs=1,\n",
       "             param_grid={'max_depth': range(3, 11),\n",
       "                         'n_estimators': [50, 100, 130],\n",
       "                         'random_state': [0, 50, 100]},\n",
       "             verbose=3)"
      ]
     },
     "execution_count": 43,
     "metadata": {},
     "output_type": "execute_result"
    }
   ],
   "source": [
    "grid.fit(scaler_train_data,y_train)"
   ]
  },
  {
   "cell_type": "code",
   "execution_count": 44,
   "id": "db0c8a62",
   "metadata": {},
   "outputs": [
    {
     "data": {
      "text/html": [
       "<style>#sk-container-id-6 {color: black;background-color: white;}#sk-container-id-6 pre{padding: 0;}#sk-container-id-6 div.sk-toggleable {background-color: white;}#sk-container-id-6 label.sk-toggleable__label {cursor: pointer;display: block;width: 100%;margin-bottom: 0;padding: 0.3em;box-sizing: border-box;text-align: center;}#sk-container-id-6 label.sk-toggleable__label-arrow:before {content: \"▸\";float: left;margin-right: 0.25em;color: #696969;}#sk-container-id-6 label.sk-toggleable__label-arrow:hover:before {color: black;}#sk-container-id-6 div.sk-estimator:hover label.sk-toggleable__label-arrow:before {color: black;}#sk-container-id-6 div.sk-toggleable__content {max-height: 0;max-width: 0;overflow: hidden;text-align: left;background-color: #f0f8ff;}#sk-container-id-6 div.sk-toggleable__content pre {margin: 0.2em;color: black;border-radius: 0.25em;background-color: #f0f8ff;}#sk-container-id-6 input.sk-toggleable__control:checked~div.sk-toggleable__content {max-height: 200px;max-width: 100%;overflow: auto;}#sk-container-id-6 input.sk-toggleable__control:checked~label.sk-toggleable__label-arrow:before {content: \"▾\";}#sk-container-id-6 div.sk-estimator input.sk-toggleable__control:checked~label.sk-toggleable__label {background-color: #d4ebff;}#sk-container-id-6 div.sk-label input.sk-toggleable__control:checked~label.sk-toggleable__label {background-color: #d4ebff;}#sk-container-id-6 input.sk-hidden--visually {border: 0;clip: rect(1px 1px 1px 1px);clip: rect(1px, 1px, 1px, 1px);height: 1px;margin: -1px;overflow: hidden;padding: 0;position: absolute;width: 1px;}#sk-container-id-6 div.sk-estimator {font-family: monospace;background-color: #f0f8ff;border: 1px dotted black;border-radius: 0.25em;box-sizing: border-box;margin-bottom: 0.5em;}#sk-container-id-6 div.sk-estimator:hover {background-color: #d4ebff;}#sk-container-id-6 div.sk-parallel-item::after {content: \"\";width: 100%;border-bottom: 1px solid gray;flex-grow: 1;}#sk-container-id-6 div.sk-label:hover label.sk-toggleable__label {background-color: #d4ebff;}#sk-container-id-6 div.sk-serial::before {content: \"\";position: absolute;border-left: 1px solid gray;box-sizing: border-box;top: 0;bottom: 0;left: 50%;z-index: 0;}#sk-container-id-6 div.sk-serial {display: flex;flex-direction: column;align-items: center;background-color: white;padding-right: 0.2em;padding-left: 0.2em;position: relative;}#sk-container-id-6 div.sk-item {position: relative;z-index: 1;}#sk-container-id-6 div.sk-parallel {display: flex;align-items: stretch;justify-content: center;background-color: white;position: relative;}#sk-container-id-6 div.sk-item::before, #sk-container-id-6 div.sk-parallel-item::before {content: \"\";position: absolute;border-left: 1px solid gray;box-sizing: border-box;top: 0;bottom: 0;left: 50%;z-index: -1;}#sk-container-id-6 div.sk-parallel-item {display: flex;flex-direction: column;z-index: 1;position: relative;background-color: white;}#sk-container-id-6 div.sk-parallel-item:first-child::after {align-self: flex-end;width: 50%;}#sk-container-id-6 div.sk-parallel-item:last-child::after {align-self: flex-start;width: 50%;}#sk-container-id-6 div.sk-parallel-item:only-child::after {width: 0;}#sk-container-id-6 div.sk-dashed-wrapped {border: 1px dashed gray;margin: 0 0.4em 0.5em 0.4em;box-sizing: border-box;padding-bottom: 0.4em;background-color: white;}#sk-container-id-6 div.sk-label label {font-family: monospace;font-weight: bold;display: inline-block;line-height: 1.2em;}#sk-container-id-6 div.sk-label-container {text-align: center;}#sk-container-id-6 div.sk-container {/* jupyter's `normalize.less` sets `[hidden] { display: none; }` but bootstrap.min.css set `[hidden] { display: none !important; }` so we also need the `!important` here to be able to override the default hidden behavior on the sphinx rendered scikit-learn.org. See: https://github.com/scikit-learn/scikit-learn/issues/21755 */display: inline-block !important;position: relative;}#sk-container-id-6 div.sk-text-repr-fallback {display: none;}</style><div id=\"sk-container-id-6\" class=\"sk-top-container\"><div class=\"sk-text-repr-fallback\"><pre>XGBClassifier(base_score=0.5, booster=&#x27;gbtree&#x27;, callbacks=None,\n",
       "              colsample_bylevel=1, colsample_bynode=1, colsample_bytree=1,\n",
       "              early_stopping_rounds=None, enable_categorical=False,\n",
       "              eval_metric=None, gamma=0, gpu_id=-1, grow_policy=&#x27;depthwise&#x27;,\n",
       "              importance_type=None, interaction_constraints=&#x27;&#x27;,\n",
       "              learning_rate=0.300000012, max_bin=256, max_cat_to_onehot=4,\n",
       "              max_delta_step=0, max_depth=4, max_leaves=0, min_child_weight=1,\n",
       "              missing=nan, monotone_constraints=&#x27;()&#x27;, n_estimators=100,\n",
       "              n_jobs=0, num_parallel_tree=1, predictor=&#x27;auto&#x27;, random_state=0,\n",
       "              reg_alpha=0, reg_lambda=1, ...)</pre><b>In a Jupyter environment, please rerun this cell to show the HTML representation or trust the notebook. <br />On GitHub, the HTML representation is unable to render, please try loading this page with nbviewer.org.</b></div><div class=\"sk-container\" hidden><div class=\"sk-item\"><div class=\"sk-estimator sk-toggleable\"><input class=\"sk-toggleable__control sk-hidden--visually\" id=\"sk-estimator-id-10\" type=\"checkbox\" checked><label for=\"sk-estimator-id-10\" class=\"sk-toggleable__label sk-toggleable__label-arrow\">XGBClassifier</label><div class=\"sk-toggleable__content\"><pre>XGBClassifier(base_score=0.5, booster=&#x27;gbtree&#x27;, callbacks=None,\n",
       "              colsample_bylevel=1, colsample_bynode=1, colsample_bytree=1,\n",
       "              early_stopping_rounds=None, enable_categorical=False,\n",
       "              eval_metric=None, gamma=0, gpu_id=-1, grow_policy=&#x27;depthwise&#x27;,\n",
       "              importance_type=None, interaction_constraints=&#x27;&#x27;,\n",
       "              learning_rate=0.300000012, max_bin=256, max_cat_to_onehot=4,\n",
       "              max_delta_step=0, max_depth=4, max_leaves=0, min_child_weight=1,\n",
       "              missing=nan, monotone_constraints=&#x27;()&#x27;, n_estimators=100,\n",
       "              n_jobs=0, num_parallel_tree=1, predictor=&#x27;auto&#x27;, random_state=0,\n",
       "              reg_alpha=0, reg_lambda=1, ...)</pre></div></div></div></div></div>"
      ],
      "text/plain": [
       "XGBClassifier(base_score=0.5, booster='gbtree', callbacks=None,\n",
       "              colsample_bylevel=1, colsample_bynode=1, colsample_bytree=1,\n",
       "              early_stopping_rounds=None, enable_categorical=False,\n",
       "              eval_metric=None, gamma=0, gpu_id=-1, grow_policy='depthwise',\n",
       "              importance_type=None, interaction_constraints='',\n",
       "              learning_rate=0.300000012, max_bin=256, max_cat_to_onehot=4,\n",
       "              max_delta_step=0, max_depth=4, max_leaves=0, min_child_weight=1,\n",
       "              missing=nan, monotone_constraints='()', n_estimators=100,\n",
       "              n_jobs=0, num_parallel_tree=1, predictor='auto', random_state=0,\n",
       "              reg_alpha=0, reg_lambda=1, ...)"
      ]
     },
     "execution_count": 44,
     "metadata": {},
     "output_type": "execute_result"
    }
   ],
   "source": [
    "grid.best_estimator_"
   ]
  },
  {
   "cell_type": "code",
   "execution_count": 60,
   "id": "1fc62044",
   "metadata": {},
   "outputs": [
    {
     "data": {
      "text/plain": [
       "{'max_depth': 4, 'n_estimators': 100, 'random_state': 0}"
      ]
     },
     "execution_count": 60,
     "metadata": {},
     "output_type": "execute_result"
    }
   ],
   "source": [
    "grid.best_params_"
   ]
  },
  {
   "cell_type": "code",
   "execution_count": 78,
   "id": "df16571a",
   "metadata": {},
   "outputs": [],
   "source": [
    "\n",
    "xgb_new=XGBClassifier(max_depth= 4, n_estimators= 100, random_state= 0)"
   ]
  },
  {
   "cell_type": "code",
   "execution_count": 79,
   "id": "a394181d",
   "metadata": {},
   "outputs": [
    {
     "data": {
      "text/html": [
       "<style>#sk-container-id-14 {color: black;background-color: white;}#sk-container-id-14 pre{padding: 0;}#sk-container-id-14 div.sk-toggleable {background-color: white;}#sk-container-id-14 label.sk-toggleable__label {cursor: pointer;display: block;width: 100%;margin-bottom: 0;padding: 0.3em;box-sizing: border-box;text-align: center;}#sk-container-id-14 label.sk-toggleable__label-arrow:before {content: \"▸\";float: left;margin-right: 0.25em;color: #696969;}#sk-container-id-14 label.sk-toggleable__label-arrow:hover:before {color: black;}#sk-container-id-14 div.sk-estimator:hover label.sk-toggleable__label-arrow:before {color: black;}#sk-container-id-14 div.sk-toggleable__content {max-height: 0;max-width: 0;overflow: hidden;text-align: left;background-color: #f0f8ff;}#sk-container-id-14 div.sk-toggleable__content pre {margin: 0.2em;color: black;border-radius: 0.25em;background-color: #f0f8ff;}#sk-container-id-14 input.sk-toggleable__control:checked~div.sk-toggleable__content {max-height: 200px;max-width: 100%;overflow: auto;}#sk-container-id-14 input.sk-toggleable__control:checked~label.sk-toggleable__label-arrow:before {content: \"▾\";}#sk-container-id-14 div.sk-estimator input.sk-toggleable__control:checked~label.sk-toggleable__label {background-color: #d4ebff;}#sk-container-id-14 div.sk-label input.sk-toggleable__control:checked~label.sk-toggleable__label {background-color: #d4ebff;}#sk-container-id-14 input.sk-hidden--visually {border: 0;clip: rect(1px 1px 1px 1px);clip: rect(1px, 1px, 1px, 1px);height: 1px;margin: -1px;overflow: hidden;padding: 0;position: absolute;width: 1px;}#sk-container-id-14 div.sk-estimator {font-family: monospace;background-color: #f0f8ff;border: 1px dotted black;border-radius: 0.25em;box-sizing: border-box;margin-bottom: 0.5em;}#sk-container-id-14 div.sk-estimator:hover {background-color: #d4ebff;}#sk-container-id-14 div.sk-parallel-item::after {content: \"\";width: 100%;border-bottom: 1px solid gray;flex-grow: 1;}#sk-container-id-14 div.sk-label:hover label.sk-toggleable__label {background-color: #d4ebff;}#sk-container-id-14 div.sk-serial::before {content: \"\";position: absolute;border-left: 1px solid gray;box-sizing: border-box;top: 0;bottom: 0;left: 50%;z-index: 0;}#sk-container-id-14 div.sk-serial {display: flex;flex-direction: column;align-items: center;background-color: white;padding-right: 0.2em;padding-left: 0.2em;position: relative;}#sk-container-id-14 div.sk-item {position: relative;z-index: 1;}#sk-container-id-14 div.sk-parallel {display: flex;align-items: stretch;justify-content: center;background-color: white;position: relative;}#sk-container-id-14 div.sk-item::before, #sk-container-id-14 div.sk-parallel-item::before {content: \"\";position: absolute;border-left: 1px solid gray;box-sizing: border-box;top: 0;bottom: 0;left: 50%;z-index: -1;}#sk-container-id-14 div.sk-parallel-item {display: flex;flex-direction: column;z-index: 1;position: relative;background-color: white;}#sk-container-id-14 div.sk-parallel-item:first-child::after {align-self: flex-end;width: 50%;}#sk-container-id-14 div.sk-parallel-item:last-child::after {align-self: flex-start;width: 50%;}#sk-container-id-14 div.sk-parallel-item:only-child::after {width: 0;}#sk-container-id-14 div.sk-dashed-wrapped {border: 1px dashed gray;margin: 0 0.4em 0.5em 0.4em;box-sizing: border-box;padding-bottom: 0.4em;background-color: white;}#sk-container-id-14 div.sk-label label {font-family: monospace;font-weight: bold;display: inline-block;line-height: 1.2em;}#sk-container-id-14 div.sk-label-container {text-align: center;}#sk-container-id-14 div.sk-container {/* jupyter's `normalize.less` sets `[hidden] { display: none; }` but bootstrap.min.css set `[hidden] { display: none !important; }` so we also need the `!important` here to be able to override the default hidden behavior on the sphinx rendered scikit-learn.org. See: https://github.com/scikit-learn/scikit-learn/issues/21755 */display: inline-block !important;position: relative;}#sk-container-id-14 div.sk-text-repr-fallback {display: none;}</style><div id=\"sk-container-id-14\" class=\"sk-top-container\"><div class=\"sk-text-repr-fallback\"><pre>XGBClassifier(base_score=0.5, booster=&#x27;gbtree&#x27;, callbacks=None,\n",
       "              colsample_bylevel=1, colsample_bynode=1, colsample_bytree=1,\n",
       "              early_stopping_rounds=None, enable_categorical=False,\n",
       "              eval_metric=None, gamma=0, gpu_id=-1, grow_policy=&#x27;depthwise&#x27;,\n",
       "              importance_type=None, interaction_constraints=&#x27;&#x27;,\n",
       "              learning_rate=0.300000012, max_bin=256, max_cat_to_onehot=4,\n",
       "              max_delta_step=0, max_depth=4, max_leaves=0, min_child_weight=1,\n",
       "              missing=nan, monotone_constraints=&#x27;()&#x27;, n_estimators=100,\n",
       "              n_jobs=0, num_parallel_tree=1, predictor=&#x27;auto&#x27;, random_state=0,\n",
       "              reg_alpha=0, reg_lambda=1, ...)</pre><b>In a Jupyter environment, please rerun this cell to show the HTML representation or trust the notebook. <br />On GitHub, the HTML representation is unable to render, please try loading this page with nbviewer.org.</b></div><div class=\"sk-container\" hidden><div class=\"sk-item\"><div class=\"sk-estimator sk-toggleable\"><input class=\"sk-toggleable__control sk-hidden--visually\" id=\"sk-estimator-id-18\" type=\"checkbox\" checked><label for=\"sk-estimator-id-18\" class=\"sk-toggleable__label sk-toggleable__label-arrow\">XGBClassifier</label><div class=\"sk-toggleable__content\"><pre>XGBClassifier(base_score=0.5, booster=&#x27;gbtree&#x27;, callbacks=None,\n",
       "              colsample_bylevel=1, colsample_bynode=1, colsample_bytree=1,\n",
       "              early_stopping_rounds=None, enable_categorical=False,\n",
       "              eval_metric=None, gamma=0, gpu_id=-1, grow_policy=&#x27;depthwise&#x27;,\n",
       "              importance_type=None, interaction_constraints=&#x27;&#x27;,\n",
       "              learning_rate=0.300000012, max_bin=256, max_cat_to_onehot=4,\n",
       "              max_delta_step=0, max_depth=4, max_leaves=0, min_child_weight=1,\n",
       "              missing=nan, monotone_constraints=&#x27;()&#x27;, n_estimators=100,\n",
       "              n_jobs=0, num_parallel_tree=1, predictor=&#x27;auto&#x27;, random_state=0,\n",
       "              reg_alpha=0, reg_lambda=1, ...)</pre></div></div></div></div></div>"
      ],
      "text/plain": [
       "XGBClassifier(base_score=0.5, booster='gbtree', callbacks=None,\n",
       "              colsample_bylevel=1, colsample_bynode=1, colsample_bytree=1,\n",
       "              early_stopping_rounds=None, enable_categorical=False,\n",
       "              eval_metric=None, gamma=0, gpu_id=-1, grow_policy='depthwise',\n",
       "              importance_type=None, interaction_constraints='',\n",
       "              learning_rate=0.300000012, max_bin=256, max_cat_to_onehot=4,\n",
       "              max_delta_step=0, max_depth=4, max_leaves=0, min_child_weight=1,\n",
       "              missing=nan, monotone_constraints='()', n_estimators=100,\n",
       "              n_jobs=0, num_parallel_tree=1, predictor='auto', random_state=0,\n",
       "              reg_alpha=0, reg_lambda=1, ...)"
      ]
     },
     "execution_count": 79,
     "metadata": {},
     "output_type": "execute_result"
    }
   ],
   "source": [
    "xgb_new.fit(scaler_train_data,y_train)"
   ]
  },
  {
   "cell_type": "code",
   "execution_count": 80,
   "id": "f11b6238",
   "metadata": {},
   "outputs": [],
   "source": [
    "y_pred4=xgb_new.predict(scaler_test_data)"
   ]
  },
  {
   "cell_type": "code",
   "execution_count": 81,
   "id": "79d4c7b0",
   "metadata": {},
   "outputs": [
    {
     "data": {
      "text/plain": [
       "0.8167330677290837"
      ]
     },
     "execution_count": 81,
     "metadata": {},
     "output_type": "execute_result"
    }
   ],
   "source": [
    "accuracy_score(y_pred4,y_test)"
   ]
  },
  {
   "cell_type": "code",
   "execution_count": null,
   "id": "f57c7ca9",
   "metadata": {},
   "outputs": [],
   "source": []
  },
  {
   "cell_type": "code",
   "execution_count": null,
   "id": "54946ba0",
   "metadata": {},
   "outputs": [],
   "source": []
  }
 ],
 "metadata": {
  "kernelspec": {
   "display_name": "Python 3 (ipykernel)",
   "language": "python",
   "name": "python3"
  },
  "language_info": {
   "codemirror_mode": {
    "name": "ipython",
    "version": 3
   },
   "file_extension": ".py",
   "mimetype": "text/x-python",
   "name": "python",
   "nbconvert_exporter": "python",
   "pygments_lexer": "ipython3",
   "version": "3.10.9"
  }
 },
 "nbformat": 4,
 "nbformat_minor": 5
}
